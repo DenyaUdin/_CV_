{
 "cells": [
  {
   "cell_type": "markdown",
   "id": "14360406",
   "metadata": {},
   "source": [
    "В этом задании будем предсказывать удовлетворенность студентов их программой (`LikeDegree`)\n"
   ]
  },
  {
   "cell_type": "code",
   "execution_count": 1,
   "id": "74793ac2",
   "metadata": {},
   "outputs": [],
   "source": [
    "import numpy as np\n",
    "import pandas as pd\n",
    "import matplotlib.pyplot as plt\n",
    "import seaborn as sns"
   ]
  },
  {
   "cell_type": "markdown",
   "id": "c1df21c5",
   "metadata": {},
   "source": [
    "### Часть 1: Исследуем данные"
   ]
  },
  {
   "cell_type": "code",
   "execution_count": 2,
   "id": "05ee5c60",
   "metadata": {},
   "outputs": [
    {
     "data": {
      "text/html": [
       "<div>\n",
       "<style scoped>\n",
       "    .dataframe tbody tr th:only-of-type {\n",
       "        vertical-align: middle;\n",
       "    }\n",
       "\n",
       "    .dataframe tbody tr th {\n",
       "        vertical-align: top;\n",
       "    }\n",
       "\n",
       "    .dataframe thead th {\n",
       "        text-align: right;\n",
       "    }\n",
       "</style>\n",
       "<table border=\"1\" class=\"dataframe\">\n",
       "  <thead>\n",
       "    <tr style=\"text-align: right;\">\n",
       "      <th></th>\n",
       "      <th>CertificationCourses</th>\n",
       "      <th>Gender</th>\n",
       "      <th>Department</th>\n",
       "      <th>Height(CM)</th>\n",
       "      <th>Weight(KG)</th>\n",
       "      <th>10Mark</th>\n",
       "      <th>12Mark</th>\n",
       "      <th>CollegeMark</th>\n",
       "      <th>Hobbies</th>\n",
       "      <th>DailyStudingTime</th>\n",
       "      <th>PreferToStudyIn</th>\n",
       "      <th>SalaryExpectation</th>\n",
       "      <th>LikeDegree</th>\n",
       "      <th>CareerBasedonDegree</th>\n",
       "      <th>GamesSpendingTime</th>\n",
       "      <th>TravellingTime</th>\n",
       "      <th>StressLevel</th>\n",
       "      <th>FinancialStatus</th>\n",
       "      <th>PartTimeJob?</th>\n",
       "    </tr>\n",
       "  </thead>\n",
       "  <tbody>\n",
       "    <tr>\n",
       "      <th>0</th>\n",
       "      <td>No</td>\n",
       "      <td>Male</td>\n",
       "      <td>BCA</td>\n",
       "      <td>100.0</td>\n",
       "      <td>58.0</td>\n",
       "      <td>79.0</td>\n",
       "      <td>65.0</td>\n",
       "      <td>80.0</td>\n",
       "      <td>Video Games</td>\n",
       "      <td>0 - 30 minute</td>\n",
       "      <td>Morning</td>\n",
       "      <td>40000</td>\n",
       "      <td>No</td>\n",
       "      <td>50%</td>\n",
       "      <td>1.30 - 2 hour</td>\n",
       "      <td>30 - 60 minutes</td>\n",
       "      <td>Bad</td>\n",
       "      <td>Bad</td>\n",
       "      <td>No</td>\n",
       "    </tr>\n",
       "    <tr>\n",
       "      <th>1</th>\n",
       "      <td>No</td>\n",
       "      <td>Female</td>\n",
       "      <td>BCA</td>\n",
       "      <td>90.0</td>\n",
       "      <td>40.0</td>\n",
       "      <td>70.0</td>\n",
       "      <td>80.0</td>\n",
       "      <td>70.0</td>\n",
       "      <td>Cinema</td>\n",
       "      <td>30 - 60 minute</td>\n",
       "      <td>Morning</td>\n",
       "      <td>15000</td>\n",
       "      <td>Yes</td>\n",
       "      <td>75%</td>\n",
       "      <td>1 - 1.30 hour</td>\n",
       "      <td>0 - 30 minutes</td>\n",
       "      <td>Bad</td>\n",
       "      <td>Bad</td>\n",
       "      <td>No</td>\n",
       "    </tr>\n",
       "    <tr>\n",
       "      <th>2</th>\n",
       "      <td>Yes</td>\n",
       "      <td>Male</td>\n",
       "      <td>BCA</td>\n",
       "      <td>159.0</td>\n",
       "      <td>78.0</td>\n",
       "      <td>69.5</td>\n",
       "      <td>61.0</td>\n",
       "      <td>55.0</td>\n",
       "      <td>Cinema</td>\n",
       "      <td>1 - 2 Hour</td>\n",
       "      <td>Anytime</td>\n",
       "      <td>13000</td>\n",
       "      <td>Yes</td>\n",
       "      <td>50%</td>\n",
       "      <td>More than 2 hour</td>\n",
       "      <td>30 - 60 minutes</td>\n",
       "      <td>Awful</td>\n",
       "      <td>Bad</td>\n",
       "      <td>No</td>\n",
       "    </tr>\n",
       "    <tr>\n",
       "      <th>3</th>\n",
       "      <td>Yes</td>\n",
       "      <td>Female</td>\n",
       "      <td>BCA</td>\n",
       "      <td>147.0</td>\n",
       "      <td>20.0</td>\n",
       "      <td>70.0</td>\n",
       "      <td>59.0</td>\n",
       "      <td>58.0</td>\n",
       "      <td>Reading books</td>\n",
       "      <td>1 - 2 Hour</td>\n",
       "      <td>Anytime</td>\n",
       "      <td>1500000</td>\n",
       "      <td>No</td>\n",
       "      <td>50%</td>\n",
       "      <td>1.30 - 2 hour</td>\n",
       "      <td>0 - 30 minutes</td>\n",
       "      <td>Bad</td>\n",
       "      <td>good</td>\n",
       "      <td>No</td>\n",
       "    </tr>\n",
       "    <tr>\n",
       "      <th>4</th>\n",
       "      <td>No</td>\n",
       "      <td>Male</td>\n",
       "      <td>BCA</td>\n",
       "      <td>170.0</td>\n",
       "      <td>54.0</td>\n",
       "      <td>40.0</td>\n",
       "      <td>65.0</td>\n",
       "      <td>30.0</td>\n",
       "      <td>Video Games</td>\n",
       "      <td>30 - 60 minute</td>\n",
       "      <td>Morning</td>\n",
       "      <td>50000</td>\n",
       "      <td>Yes</td>\n",
       "      <td>25%</td>\n",
       "      <td>1.30 - 2 hour</td>\n",
       "      <td>30 - 60 minutes</td>\n",
       "      <td>Good</td>\n",
       "      <td>good</td>\n",
       "      <td>No</td>\n",
       "    </tr>\n",
       "  </tbody>\n",
       "</table>\n",
       "</div>"
      ],
      "text/plain": [
       "  CertificationCourses  Gender Department  Height(CM)  Weight(KG)  10Mark  \\\n",
       "0                   No    Male        BCA       100.0        58.0    79.0   \n",
       "1                   No  Female        BCA        90.0        40.0    70.0   \n",
       "2                  Yes    Male        BCA       159.0        78.0    69.5   \n",
       "3                  Yes  Female        BCA       147.0        20.0    70.0   \n",
       "4                   No    Male        BCA       170.0        54.0    40.0   \n",
       "\n",
       "   12Mark  CollegeMark        Hobbies DailyStudingTime PreferToStudyIn  \\\n",
       "0    65.0         80.0    Video Games    0 - 30 minute         Morning   \n",
       "1    80.0         70.0         Cinema   30 - 60 minute         Morning   \n",
       "2    61.0         55.0         Cinema       1 - 2 Hour         Anytime   \n",
       "3    59.0         58.0  Reading books       1 - 2 Hour         Anytime   \n",
       "4    65.0         30.0    Video Games   30 - 60 minute         Morning   \n",
       "\n",
       "   SalaryExpectation LikeDegree CareerBasedonDegree GamesSpendingTime  \\\n",
       "0              40000         No                 50%     1.30 - 2 hour   \n",
       "1              15000        Yes                 75%     1 - 1.30 hour   \n",
       "2              13000        Yes                 50%  More than 2 hour   \n",
       "3            1500000         No                 50%     1.30 - 2 hour   \n",
       "4              50000        Yes                 25%     1.30 - 2 hour   \n",
       "\n",
       "   TravellingTime  StressLevel  FinancialStatus PartTimeJob?  \n",
       "0  30 - 60 minutes          Bad             Bad           No  \n",
       "1   0 - 30 minutes          Bad             Bad           No  \n",
       "2  30 - 60 minutes        Awful             Bad           No  \n",
       "3   0 - 30 minutes          Bad            good           No  \n",
       "4  30 - 60 minutes         Good            good           No  "
      ]
     },
     "execution_count": 2,
     "metadata": {},
     "output_type": "execute_result"
    }
   ],
   "source": [
    "data = pd.read_csv(\"/Student_Behaviour.csv\")\n",
    "data.head()"
   ]
  },
  {
   "cell_type": "code",
   "execution_count": 3,
   "id": "0b75342b",
   "metadata": {},
   "outputs": [
    {
     "name": "stdout",
     "output_type": "stream",
     "text": [
      "<class 'pandas.core.frame.DataFrame'>\n",
      "RangeIndex: 235 entries, 0 to 234\n",
      "Data columns (total 19 columns):\n",
      " #   Column                Non-Null Count  Dtype  \n",
      "---  ------                --------------  -----  \n",
      " 0   CertificationCourses  235 non-null    object \n",
      " 1   Gender                235 non-null    object \n",
      " 2   Department            235 non-null    object \n",
      " 3   Height(CM)            235 non-null    float64\n",
      " 4   Weight(KG)            235 non-null    float64\n",
      " 5   10Mark                235 non-null    float64\n",
      " 6   12Mark                235 non-null    float64\n",
      " 7   CollegeMark           235 non-null    float64\n",
      " 8   Hobbies               235 non-null    object \n",
      " 9   DailyStudingTime      235 non-null    object \n",
      " 10  PreferToStudyIn       235 non-null    object \n",
      " 11  SalaryExpectation     235 non-null    int64  \n",
      " 12  LikeDegree            235 non-null    object \n",
      " 13  CareerBasedonDegree   235 non-null    object \n",
      " 14  GamesSpendingTime     235 non-null    object \n",
      " 15  TravellingTime        235 non-null    object \n",
      " 16  StressLevel           235 non-null    object \n",
      " 17  FinancialStatus       235 non-null    object \n",
      " 18  PartTimeJob?          235 non-null    object \n",
      "dtypes: float64(5), int64(1), object(13)\n",
      "memory usage: 35.0+ KB\n"
     ]
    }
   ],
   "source": [
    "data.info()"
   ]
  },
  {
   "cell_type": "code",
   "execution_count": 4,
   "id": "e1bbb401",
   "metadata": {},
   "outputs": [
    {
     "data": {
      "text/plain": [
       "CertificationCourses    0\n",
       "Gender                  0\n",
       "Department              0\n",
       "Height(CM)              0\n",
       "Weight(KG)              0\n",
       "10Mark                  0\n",
       "12Mark                  0\n",
       "CollegeMark             0\n",
       "Hobbies                 0\n",
       "DailyStudingTime        0\n",
       "PreferToStudyIn         0\n",
       "SalaryExpectation       0\n",
       "LikeDegree              0\n",
       "CareerBasedonDegree     0\n",
       "GamesSpendingTime       0\n",
       "TravellingTime          0\n",
       "StressLevel             0\n",
       "FinancialStatus         0\n",
       "PartTimeJob?            0\n",
       "dtype: int64"
      ]
     },
     "execution_count": 4,
     "metadata": {},
     "output_type": "execute_result"
    }
   ],
   "source": [
    "data.isnull().sum()"
   ]
  },
  {
   "cell_type": "markdown",
   "id": "26ba2f63",
   "metadata": {},
   "source": [
    "Пропусков в колонках нет"
   ]
  },
  {
   "cell_type": "code",
   "execution_count": 5,
   "id": "bbdbf84f",
   "metadata": {},
   "outputs": [],
   "source": [
    "data['CareerBasedonDegree'] = data['CareerBasedonDegree'].str.slice(0, -1).astype(float)"
   ]
  },
  {
   "cell_type": "code",
   "execution_count": 6,
   "id": "576c9140",
   "metadata": {},
   "outputs": [
    {
     "data": {
      "text/html": [
       "<div>\n",
       "<style scoped>\n",
       "    .dataframe tbody tr th:only-of-type {\n",
       "        vertical-align: middle;\n",
       "    }\n",
       "\n",
       "    .dataframe tbody tr th {\n",
       "        vertical-align: top;\n",
       "    }\n",
       "\n",
       "    .dataframe thead th {\n",
       "        text-align: right;\n",
       "    }\n",
       "</style>\n",
       "<table border=\"1\" class=\"dataframe\">\n",
       "  <thead>\n",
       "    <tr style=\"text-align: right;\">\n",
       "      <th></th>\n",
       "      <th>CertificationCourses</th>\n",
       "      <th>Gender</th>\n",
       "      <th>Department</th>\n",
       "      <th>Height(CM)</th>\n",
       "      <th>Weight(KG)</th>\n",
       "      <th>10Mark</th>\n",
       "      <th>12Mark</th>\n",
       "      <th>CollegeMark</th>\n",
       "      <th>Hobbies</th>\n",
       "      <th>DailyStudingTime</th>\n",
       "      <th>PreferToStudyIn</th>\n",
       "      <th>SalaryExpectation</th>\n",
       "      <th>LikeDegree</th>\n",
       "      <th>CareerBasedonDegree</th>\n",
       "      <th>GamesSpendingTime</th>\n",
       "      <th>TravellingTime</th>\n",
       "      <th>StressLevel</th>\n",
       "      <th>FinancialStatus</th>\n",
       "      <th>PartTimeJob?</th>\n",
       "    </tr>\n",
       "  </thead>\n",
       "  <tbody>\n",
       "    <tr>\n",
       "      <th>0</th>\n",
       "      <td>No</td>\n",
       "      <td>Male</td>\n",
       "      <td>BCA</td>\n",
       "      <td>100.0</td>\n",
       "      <td>58.0</td>\n",
       "      <td>79.0</td>\n",
       "      <td>65.0</td>\n",
       "      <td>80.0</td>\n",
       "      <td>Video Games</td>\n",
       "      <td>0 - 30 minute</td>\n",
       "      <td>Morning</td>\n",
       "      <td>40000</td>\n",
       "      <td>No</td>\n",
       "      <td>50.0</td>\n",
       "      <td>1.30 - 2 hour</td>\n",
       "      <td>30 - 60 minutes</td>\n",
       "      <td>Bad</td>\n",
       "      <td>Bad</td>\n",
       "      <td>No</td>\n",
       "    </tr>\n",
       "    <tr>\n",
       "      <th>1</th>\n",
       "      <td>No</td>\n",
       "      <td>Female</td>\n",
       "      <td>BCA</td>\n",
       "      <td>90.0</td>\n",
       "      <td>40.0</td>\n",
       "      <td>70.0</td>\n",
       "      <td>80.0</td>\n",
       "      <td>70.0</td>\n",
       "      <td>Cinema</td>\n",
       "      <td>30 - 60 minute</td>\n",
       "      <td>Morning</td>\n",
       "      <td>15000</td>\n",
       "      <td>Yes</td>\n",
       "      <td>75.0</td>\n",
       "      <td>1 - 1.30 hour</td>\n",
       "      <td>0 - 30 minutes</td>\n",
       "      <td>Bad</td>\n",
       "      <td>Bad</td>\n",
       "      <td>No</td>\n",
       "    </tr>\n",
       "    <tr>\n",
       "      <th>2</th>\n",
       "      <td>Yes</td>\n",
       "      <td>Male</td>\n",
       "      <td>BCA</td>\n",
       "      <td>159.0</td>\n",
       "      <td>78.0</td>\n",
       "      <td>69.5</td>\n",
       "      <td>61.0</td>\n",
       "      <td>55.0</td>\n",
       "      <td>Cinema</td>\n",
       "      <td>1 - 2 Hour</td>\n",
       "      <td>Anytime</td>\n",
       "      <td>13000</td>\n",
       "      <td>Yes</td>\n",
       "      <td>50.0</td>\n",
       "      <td>More than 2 hour</td>\n",
       "      <td>30 - 60 minutes</td>\n",
       "      <td>Awful</td>\n",
       "      <td>Bad</td>\n",
       "      <td>No</td>\n",
       "    </tr>\n",
       "    <tr>\n",
       "      <th>3</th>\n",
       "      <td>Yes</td>\n",
       "      <td>Female</td>\n",
       "      <td>BCA</td>\n",
       "      <td>147.0</td>\n",
       "      <td>20.0</td>\n",
       "      <td>70.0</td>\n",
       "      <td>59.0</td>\n",
       "      <td>58.0</td>\n",
       "      <td>Reading books</td>\n",
       "      <td>1 - 2 Hour</td>\n",
       "      <td>Anytime</td>\n",
       "      <td>1500000</td>\n",
       "      <td>No</td>\n",
       "      <td>50.0</td>\n",
       "      <td>1.30 - 2 hour</td>\n",
       "      <td>0 - 30 minutes</td>\n",
       "      <td>Bad</td>\n",
       "      <td>good</td>\n",
       "      <td>No</td>\n",
       "    </tr>\n",
       "    <tr>\n",
       "      <th>4</th>\n",
       "      <td>No</td>\n",
       "      <td>Male</td>\n",
       "      <td>BCA</td>\n",
       "      <td>170.0</td>\n",
       "      <td>54.0</td>\n",
       "      <td>40.0</td>\n",
       "      <td>65.0</td>\n",
       "      <td>30.0</td>\n",
       "      <td>Video Games</td>\n",
       "      <td>30 - 60 minute</td>\n",
       "      <td>Morning</td>\n",
       "      <td>50000</td>\n",
       "      <td>Yes</td>\n",
       "      <td>25.0</td>\n",
       "      <td>1.30 - 2 hour</td>\n",
       "      <td>30 - 60 minutes</td>\n",
       "      <td>Good</td>\n",
       "      <td>good</td>\n",
       "      <td>No</td>\n",
       "    </tr>\n",
       "  </tbody>\n",
       "</table>\n",
       "</div>"
      ],
      "text/plain": [
       "  CertificationCourses  Gender Department  Height(CM)  Weight(KG)  10Mark  \\\n",
       "0                   No    Male        BCA       100.0        58.0    79.0   \n",
       "1                   No  Female        BCA        90.0        40.0    70.0   \n",
       "2                  Yes    Male        BCA       159.0        78.0    69.5   \n",
       "3                  Yes  Female        BCA       147.0        20.0    70.0   \n",
       "4                   No    Male        BCA       170.0        54.0    40.0   \n",
       "\n",
       "   12Mark  CollegeMark        Hobbies DailyStudingTime PreferToStudyIn  \\\n",
       "0    65.0         80.0    Video Games    0 - 30 minute         Morning   \n",
       "1    80.0         70.0         Cinema   30 - 60 minute         Morning   \n",
       "2    61.0         55.0         Cinema       1 - 2 Hour         Anytime   \n",
       "3    59.0         58.0  Reading books       1 - 2 Hour         Anytime   \n",
       "4    65.0         30.0    Video Games   30 - 60 minute         Morning   \n",
       "\n",
       "   SalaryExpectation LikeDegree  CareerBasedonDegree GamesSpendingTime  \\\n",
       "0              40000         No                 50.0     1.30 - 2 hour   \n",
       "1              15000        Yes                 75.0     1 - 1.30 hour   \n",
       "2              13000        Yes                 50.0  More than 2 hour   \n",
       "3            1500000         No                 50.0     1.30 - 2 hour   \n",
       "4              50000        Yes                 25.0     1.30 - 2 hour   \n",
       "\n",
       "   TravellingTime  StressLevel  FinancialStatus PartTimeJob?  \n",
       "0  30 - 60 minutes          Bad             Bad           No  \n",
       "1   0 - 30 minutes          Bad             Bad           No  \n",
       "2  30 - 60 minutes        Awful             Bad           No  \n",
       "3   0 - 30 minutes          Bad            good           No  \n",
       "4  30 - 60 minutes         Good            good           No  "
      ]
     },
     "execution_count": 6,
     "metadata": {},
     "output_type": "execute_result"
    }
   ],
   "source": [
    "data.head()"
   ]
  },
  {
   "cell_type": "code",
   "execution_count": 7,
   "id": "b56b05ac",
   "metadata": {},
   "outputs": [
    {
     "data": {
      "text/plain": [
       "numpy.float64"
      ]
     },
     "execution_count": 7,
     "metadata": {},
     "output_type": "execute_result"
    }
   ],
   "source": [
    "type(data['CareerBasedonDegree'][0])"
   ]
  },
  {
   "cell_type": "markdown",
   "id": "5de8b96b",
   "metadata": {},
   "source": [
    "В датасете есть 3 поля, с суффиксом `Time`, данные в них строковые, которые означают временной интервал. Извлечем минимальное время(левую границу интервала) для каждой из этих переменных и переведем в минуты."
   ]
  },
  {
   "cell_type": "code",
   "execution_count": 8,
   "id": "2bfcc541",
   "metadata": {},
   "outputs": [],
   "source": [
    "time = ['DailyStudingTime', 'GamesSpendingTime', 'TravellingTime ']"
   ]
  },
  {
   "cell_type": "code",
   "execution_count": 9,
   "id": "f3a8d971",
   "metadata": {},
   "outputs": [
    {
     "name": "stdout",
     "output_type": "stream",
     "text": [
      "30 - 60 minute      81\n",
      "1 - 2 Hour          61\n",
      "0 - 30 minute       46\n",
      "2 - 3 hour          24\n",
      "3 - 4 hour          15\n",
      "More Than 4 hour     8\n",
      "Name: DailyStudingTime, dtype: int64\n",
      "30 - 60 Minute      69\n",
      "1 - 1.30 hour       55\n",
      "1 - 30 Minute       47\n",
      "More than 2 hour    32\n",
      "1.30 - 2 hour       27\n",
      "0 Minute             5\n",
      "Name: GamesSpendingTime, dtype: int64\n",
      "30 - 60 minutes     80\n",
      "0 - 30 minutes      55\n",
      "1 - 1.30 hour       51\n",
      "1.30 - 2 hour       18\n",
      "2 - 2.30 hour       14\n",
      "more than 3 hour    10\n",
      "2.30 - 3 hour        7\n",
      "Name: TravellingTime , dtype: int64\n"
     ]
    }
   ],
   "source": [
    "for column in time:\n",
    "    print(data[column].value_counts())"
   ]
  },
  {
   "cell_type": "code",
   "execution_count": 10,
   "id": "a483f8a0",
   "metadata": {},
   "outputs": [],
   "source": [
    "data['DailyStudingTime'].replace(['30 - 60 minute','1 - 2 Hour', '0 - 30 minute', '2 - 3 hour', '3 - 4 hour', 'More Than 4 hour'],[30, 60, 0, 120, 180, 240],inplace=True) "
   ]
  },
  {
   "cell_type": "code",
   "execution_count": 11,
   "id": "5db70ae3",
   "metadata": {},
   "outputs": [],
   "source": [
    "data['GamesSpendingTime'].replace(['30 - 60 Minute','1 - 1.30 hour', '1 - 30 Minute', 'More than 2 hour', '1.30 - 2 hour', '0 Minute'],[30, 60, 1, 120, 90, 0],inplace=True) "
   ]
  },
  {
   "cell_type": "code",
   "execution_count": 12,
   "id": "55c72048",
   "metadata": {},
   "outputs": [],
   "source": [
    "data['TravellingTime '].replace(['30 - 60 minutes', '0 - 30 minutes', '1 - 1.30 hour', '1.30 - 2 hour', '2 - 2.30 hour', 'more than 3 hour', '2.30 - 3 hour'],[30, 0, 60, 90, 120, 180, 150],inplace=True) "
   ]
  },
  {
   "cell_type": "code",
   "execution_count": 13,
   "id": "aec5a352",
   "metadata": {},
   "outputs": [
    {
     "name": "stdout",
     "output_type": "stream",
     "text": [
      "30     81\n",
      "60     61\n",
      "0      46\n",
      "120    24\n",
      "180    15\n",
      "240     8\n",
      "Name: DailyStudingTime, dtype: int64\n",
      "30     69\n",
      "60     55\n",
      "1      47\n",
      "120    32\n",
      "90     27\n",
      "0       5\n",
      "Name: GamesSpendingTime, dtype: int64\n",
      "30     80\n",
      "0      55\n",
      "60     51\n",
      "90     18\n",
      "120    14\n",
      "180    10\n",
      "150     7\n",
      "Name: TravellingTime , dtype: int64\n"
     ]
    }
   ],
   "source": [
    "for column in time:\n",
    "    print(data[column].value_counts())"
   ]
  },
  {
   "cell_type": "markdown",
   "id": "81ac2754",
   "metadata": {},
   "source": [
    "Колонки (непрерывные переменные) для предсказания целевой переменной с помощью knn"
   ]
  },
  {
   "cell_type": "code",
   "execution_count": 14,
   "id": "979821da",
   "metadata": {},
   "outputs": [],
   "source": [
    "per = ['DailyStudingTime', 'GamesSpendingTime', 'TravellingTime ']"
   ]
  },
  {
   "cell_type": "code",
   "execution_count": 15,
   "id": "b130ddc8",
   "metadata": {},
   "outputs": [
    {
     "data": {
      "text/plain": [
       "Index(['CertificationCourses', 'Gender', 'Department', 'Height(CM)',\n",
       "       'Weight(KG)', '10Mark', '12Mark', 'CollegeMark', 'Hobbies',\n",
       "       'DailyStudingTime', 'PreferToStudyIn', 'SalaryExpectation',\n",
       "       'LikeDegree', 'CareerBasedonDegree', 'GamesSpendingTime',\n",
       "       'TravellingTime ', 'StressLevel ', 'FinancialStatus', 'PartTimeJob?'],\n",
       "      dtype='object')"
      ]
     },
     "execution_count": 15,
     "metadata": {},
     "output_type": "execute_result"
    }
   ],
   "source": [
    "data.columns"
   ]
  },
  {
   "cell_type": "code",
   "execution_count": 16,
   "id": "30a8efd4",
   "metadata": {},
   "outputs": [
    {
     "data": {
      "text/plain": [
       "<AxesSubplot:>"
      ]
     },
     "execution_count": 16,
     "metadata": {},
     "output_type": "execute_result"
    },
    {
     "data": {
      "image/png": "[encoded data removed]",
      "text/plain": [
       "<Figure size 432x288 with 1 Axes>"
      ]
     },
     "metadata": {
      "needs_background": "light"
     },
     "output_type": "display_data"
    }
   ],
   "source": [
    "data.boxplot(per)"
   ]
  },
  {
   "cell_type": "markdown",
   "id": "f3f4f680",
   "metadata": {},
   "source": [
    "Да, выбросы присутствуют "
   ]
  },
  {
   "cell_type": "code",
   "execution_count": 17,
   "id": "d30853f3",
   "metadata": {},
   "outputs": [
    {
     "data": {
      "text/plain": [
       "Yes    215\n",
       "No      20\n",
       "Name: LikeDegree, dtype: int64"
      ]
     },
     "execution_count": 17,
     "metadata": {},
     "output_type": "execute_result"
    }
   ],
   "source": [
    "data['LikeDegree'].value_counts()"
   ]
  },
  {
   "cell_type": "markdown",
   "id": "f306e35f",
   "metadata": {},
   "source": [
    "В данном случае явно видет дисбаланс между классами. В этом случае можно использовоть например f1 или ROC-AUC. Нельзя использовать Accuracy."
   ]
  },
  {
   "cell_type": "code",
   "execution_count": 18,
   "id": "fa2b5194",
   "metadata": {},
   "outputs": [],
   "source": [
    "data['LikeDegree'] =  data['LikeDegree'].replace(to_replace = ['Yes', 'No'], value = [1, 0])"
   ]
  },
  {
   "cell_type": "markdown",
   "id": "58f6a82d",
   "metadata": {},
   "source": [
    "### Часть 2: Строим модели"
   ]
  },
  {
   "cell_type": "code",
   "execution_count": 19,
   "id": "5927a41f",
   "metadata": {},
   "outputs": [],
   "source": [
    "from sklearn.model_selection import train_test_split\n",
    "X_train, X_test, y_train, y_test = train_test_split(data[per], data['LikeDegree'], test_size = 0.3)"
   ]
  },
  {
   "cell_type": "markdown",
   "id": "a11dae77",
   "metadata": {},
   "source": [
    "Постройте наивную модель предсказания для целевой переменной. Наивная модель - это самая простая модель, без сложных зависимостей. Например, для регрессии наивная модель - среднее для целевой переменной. В данном случае наивной моделью может быть преположение \"все студенты (не)довольны\"."
   ]
  },
  {
   "cell_type": "code",
   "execution_count": 20,
   "id": "070b8488",
   "metadata": {},
   "outputs": [],
   "source": [
    "y_naiv = np.ones(len(y_test))"
   ]
  },
  {
   "cell_type": "markdown",
   "id": "baba84d2",
   "metadata": {},
   "source": [
    "все студенты довольны"
   ]
  },
  {
   "cell_type": "markdown",
   "id": "0a8c6017",
   "metadata": {},
   "source": [
    "Построим модели ближайших соседей для 3, 5, 7 ближайших соседей. "
   ]
  },
  {
   "cell_type": "code",
   "execution_count": 21,
   "id": "32a15eab",
   "metadata": {},
   "outputs": [],
   "source": [
    "from sklearn.neighbors import KNeighborsClassifier\n",
    "neigh_3 = KNeighborsClassifier(n_neighbors=3)\n",
    "neigh_3.fit(X_train, y_train)\n",
    "predictions_3 = neigh_3.predict(X_test)"
   ]
  },
  {
   "cell_type": "code",
   "execution_count": 22,
   "id": "62484d0f",
   "metadata": {},
   "outputs": [],
   "source": [
    "from sklearn.neighbors import KNeighborsClassifier\n",
    "neigh_5 = KNeighborsClassifier(n_neighbors=5)\n",
    "neigh_5.fit(X_train, y_train)\n",
    "predictions_5 = neigh_5.predict(X_test)"
   ]
  },
  {
   "cell_type": "code",
   "execution_count": 23,
   "id": "e916a6cc",
   "metadata": {},
   "outputs": [],
   "source": [
    "from sklearn.neighbors import KNeighborsClassifier\n",
    "neigh_7 = KNeighborsClassifier(n_neighbors=7)\n",
    "neigh_7.fit(X_train, y_train)\n",
    "predictions_7 = neigh_7.predict(X_test)"
   ]
  },
  {
   "cell_type": "markdown",
   "id": "4d63e949",
   "metadata": {},
   "source": [
    "Построим метрики качества на тестовой выборке для моделей сравним между собой."
   ]
  },
  {
   "cell_type": "code",
   "execution_count": 24,
   "id": "15e37ae8",
   "metadata": {},
   "outputs": [],
   "source": [
    "from sklearn.metrics import precision_score\n",
    "from sklearn.metrics import recall_score\n",
    "from sklearn.metrics import f1_score\n",
    "def metrics(pred):\n",
    "    print('precision: ', precision_score(y_test, pred))\n",
    "    print('recall: ', recall_score(y_test, pred))\n",
    "    print('f1: ', f1_score(y_test, pred))"
   ]
  },
  {
   "cell_type": "code",
   "execution_count": 25,
   "id": "3c119422",
   "metadata": {},
   "outputs": [
    {
     "name": "stdout",
     "output_type": "stream",
     "text": [
      "precision:  0.8428571428571429\n",
      "recall:  0.9833333333333333\n",
      "f1:  0.9076923076923077\n"
     ]
    }
   ],
   "source": [
    "metrics(predictions_3)"
   ]
  },
  {
   "cell_type": "code",
   "execution_count": 26,
   "id": "b8858e69",
   "metadata": {},
   "outputs": [
    {
     "name": "stdout",
     "output_type": "stream",
     "text": [
      "precision:  0.8450704225352113\n",
      "recall:  1.0\n",
      "f1:  0.916030534351145\n"
     ]
    }
   ],
   "source": [
    "metrics(predictions_5)"
   ]
  },
  {
   "cell_type": "code",
   "execution_count": 27,
   "id": "e2f2d7c8",
   "metadata": {},
   "outputs": [
    {
     "name": "stdout",
     "output_type": "stream",
     "text": [
      "precision:  0.8450704225352113\n",
      "recall:  1.0\n",
      "f1:  0.916030534351145\n"
     ]
    }
   ],
   "source": [
    "metrics(predictions_7)"
   ]
  },
  {
   "cell_type": "code",
   "execution_count": 28,
   "id": "c5202556",
   "metadata": {},
   "outputs": [
    {
     "name": "stdout",
     "output_type": "stream",
     "text": [
      "precision:  0.8450704225352113\n",
      "recall:  1.0\n",
      "f1:  0.916030534351145\n"
     ]
    }
   ],
   "source": [
    "metrics(y_naiv)"
   ]
  },
  {
   "cell_type": "markdown",
   "id": "02c9c339",
   "metadata": {},
   "source": [
    "Модели с 5 и 7 соседями и наивная модель дали одиноковые наивысшие оценки точности"
   ]
  },
  {
   "cell_type": "markdown",
   "id": "798b8d3a",
   "metadata": {},
   "source": [
    "Применим шкалирование и снова построим модели для нескольких вариантов соседей (3, 5, 7). "
   ]
  },
  {
   "cell_type": "code",
   "execution_count": 34,
   "id": "980c40f1",
   "metadata": {},
   "outputs": [],
   "source": [
    "from sklearn.preprocessing import MinMaxScaler  \n",
    "scaler = MinMaxScaler( )\n",
    "\n",
    "scaler.fit(X_train) \n",
    "\n",
    "X_train_norm = scaler.transform(X_train) \n",
    "X_test_norm = scaler.transform(X_test)"
   ]
  },
  {
   "cell_type": "code",
   "execution_count": 35,
   "id": "bcd1f030",
   "metadata": {},
   "outputs": [
    {
     "name": "stdout",
     "output_type": "stream",
     "text": [
      "precision:  0.8450704225352113\n",
      "recall:  1.0\n",
      "f1:  0.916030534351145\n"
     ]
    }
   ],
   "source": [
    "neigh_3 = KNeighborsClassifier(n_neighbors=3)\n",
    "neigh_3.fit(X_train_norm, y_train)\n",
    "predictions_3 = neigh_3.predict(X_test_norm)\n",
    "metrics(predictions_3)"
   ]
  },
  {
   "cell_type": "code",
   "execution_count": 36,
   "id": "7e0d6579",
   "metadata": {},
   "outputs": [
    {
     "name": "stdout",
     "output_type": "stream",
     "text": [
      "precision:  0.8450704225352113\n",
      "recall:  1.0\n",
      "f1:  0.916030534351145\n"
     ]
    }
   ],
   "source": [
    "neigh_5 = KNeighborsClassifier(n_neighbors=5)\n",
    "neigh_5.fit(X_train_norm, y_train)\n",
    "predictions_5 = neigh_5.predict(X_test_norm)\n",
    "metrics(predictions_5)"
   ]
  },
  {
   "cell_type": "code",
   "execution_count": 37,
   "id": "e5b5d1c6",
   "metadata": {},
   "outputs": [
    {
     "name": "stdout",
     "output_type": "stream",
     "text": [
      "precision:  0.8450704225352113\n",
      "recall:  1.0\n",
      "f1:  0.916030534351145\n"
     ]
    }
   ],
   "source": [
    "neigh_7 = KNeighborsClassifier(n_neighbors=7)\n",
    "neigh_7.fit(X_train_norm, y_train)\n",
    "predictions_7 = neigh_7.predict(X_test_norm)\n",
    "metrics(predictions_7)"
   ]
  },
  {
   "cell_type": "markdown",
   "id": "9d6f10d8",
   "metadata": {},
   "source": [
    "Наивысшие оценки точности теперь показывают все модели, в том числе и с 3 соседями"
   ]
  },
  {
   "cell_type": "markdown",
   "id": "a58eef97",
   "metadata": {},
   "source": [
    "Избавимся от выбросов в исходной выборке."
   ]
  },
  {
   "cell_type": "code",
   "execution_count": 50,
   "id": "ffac513a",
   "metadata": {},
   "outputs": [],
   "source": [
    "for x in ['DailyStudingTime']:\n",
    "    q75,q25 = np.percentile(data.loc[:,x],[75,25])\n",
    "    intr_qr = q75-q25\n",
    "\n",
    "    max = q75+(1.5*intr_qr)\n",
    "    min = q25-(1.5*intr_qr)\n",
    "\n",
    "    data.loc[data[x] < min,x] = np.nan\n",
    "    data.loc[data[x] > max,x] = np.nan"
   ]
  },
  {
   "cell_type": "code",
   "execution_count": 51,
   "id": "215319cc",
   "metadata": {},
   "outputs": [],
   "source": [
    "for x in ['TravellingTime ']:\n",
    "    q75,q25 = np.percentile(data.loc[:,x],[75,25])\n",
    "    intr_qr = q75-q25\n",
    "\n",
    "    max = q75+(1.5*intr_qr)\n",
    "    min = q25-(1.5*intr_qr)\n",
    "\n",
    "    data.loc[data[x] < min,x] = np.nan\n",
    "    data.loc[data[x] > max,x] = np.nan"
   ]
  },
  {
   "cell_type": "code",
   "execution_count": 52,
   "id": "3d488d22",
   "metadata": {},
   "outputs": [],
   "source": [
    "data = data.dropna()"
   ]
  },
  {
   "cell_type": "code",
   "execution_count": 59,
   "id": "fd41f483",
   "metadata": {},
   "outputs": [
    {
     "data": {
      "text/html": [
       "<div>\n",
       "<style scoped>\n",
       "    .dataframe tbody tr th:only-of-type {\n",
       "        vertical-align: middle;\n",
       "    }\n",
       "\n",
       "    .dataframe tbody tr th {\n",
       "        vertical-align: top;\n",
       "    }\n",
       "\n",
       "    .dataframe thead th {\n",
       "        text-align: right;\n",
       "    }\n",
       "</style>\n",
       "<table border=\"1\" class=\"dataframe\">\n",
       "  <thead>\n",
       "    <tr style=\"text-align: right;\">\n",
       "      <th></th>\n",
       "      <th>CertificationCourses</th>\n",
       "      <th>Gender</th>\n",
       "      <th>Department</th>\n",
       "      <th>Height(CM)</th>\n",
       "      <th>Weight(KG)</th>\n",
       "      <th>10Mark</th>\n",
       "      <th>12Mark</th>\n",
       "      <th>CollegeMark</th>\n",
       "      <th>Hobbies</th>\n",
       "      <th>DailyStudingTime</th>\n",
       "      <th>PreferToStudyIn</th>\n",
       "      <th>SalaryExpectation</th>\n",
       "      <th>LikeDegree</th>\n",
       "      <th>CareerBasedonDegree</th>\n",
       "      <th>GamesSpendingTime</th>\n",
       "      <th>TravellingTime</th>\n",
       "      <th>StressLevel</th>\n",
       "      <th>FinancialStatus</th>\n",
       "      <th>PartTimeJob?</th>\n",
       "    </tr>\n",
       "  </thead>\n",
       "  <tbody>\n",
       "    <tr>\n",
       "      <th>0</th>\n",
       "      <td>No</td>\n",
       "      <td>Male</td>\n",
       "      <td>BCA</td>\n",
       "      <td>100.0</td>\n",
       "      <td>58.0</td>\n",
       "      <td>79.0</td>\n",
       "      <td>65.0</td>\n",
       "      <td>80.0</td>\n",
       "      <td>Video Games</td>\n",
       "      <td>0.0</td>\n",
       "      <td>Morning</td>\n",
       "      <td>40000</td>\n",
       "      <td>0</td>\n",
       "      <td>50.0</td>\n",
       "      <td>90</td>\n",
       "      <td>30.0</td>\n",
       "      <td>Bad</td>\n",
       "      <td>Bad</td>\n",
       "      <td>No</td>\n",
       "    </tr>\n",
       "    <tr>\n",
       "      <th>1</th>\n",
       "      <td>No</td>\n",
       "      <td>Female</td>\n",
       "      <td>BCA</td>\n",
       "      <td>90.0</td>\n",
       "      <td>40.0</td>\n",
       "      <td>70.0</td>\n",
       "      <td>80.0</td>\n",
       "      <td>70.0</td>\n",
       "      <td>Cinema</td>\n",
       "      <td>30.0</td>\n",
       "      <td>Morning</td>\n",
       "      <td>15000</td>\n",
       "      <td>1</td>\n",
       "      <td>75.0</td>\n",
       "      <td>60</td>\n",
       "      <td>0.0</td>\n",
       "      <td>Bad</td>\n",
       "      <td>Bad</td>\n",
       "      <td>No</td>\n",
       "    </tr>\n",
       "    <tr>\n",
       "      <th>2</th>\n",
       "      <td>Yes</td>\n",
       "      <td>Male</td>\n",
       "      <td>BCA</td>\n",
       "      <td>159.0</td>\n",
       "      <td>78.0</td>\n",
       "      <td>69.5</td>\n",
       "      <td>61.0</td>\n",
       "      <td>55.0</td>\n",
       "      <td>Cinema</td>\n",
       "      <td>60.0</td>\n",
       "      <td>Anytime</td>\n",
       "      <td>13000</td>\n",
       "      <td>1</td>\n",
       "      <td>50.0</td>\n",
       "      <td>120</td>\n",
       "      <td>30.0</td>\n",
       "      <td>Awful</td>\n",
       "      <td>Bad</td>\n",
       "      <td>No</td>\n",
       "    </tr>\n",
       "    <tr>\n",
       "      <th>3</th>\n",
       "      <td>Yes</td>\n",
       "      <td>Female</td>\n",
       "      <td>BCA</td>\n",
       "      <td>147.0</td>\n",
       "      <td>20.0</td>\n",
       "      <td>70.0</td>\n",
       "      <td>59.0</td>\n",
       "      <td>58.0</td>\n",
       "      <td>Reading books</td>\n",
       "      <td>60.0</td>\n",
       "      <td>Anytime</td>\n",
       "      <td>1500000</td>\n",
       "      <td>0</td>\n",
       "      <td>50.0</td>\n",
       "      <td>90</td>\n",
       "      <td>0.0</td>\n",
       "      <td>Bad</td>\n",
       "      <td>good</td>\n",
       "      <td>No</td>\n",
       "    </tr>\n",
       "    <tr>\n",
       "      <th>4</th>\n",
       "      <td>No</td>\n",
       "      <td>Male</td>\n",
       "      <td>BCA</td>\n",
       "      <td>170.0</td>\n",
       "      <td>54.0</td>\n",
       "      <td>40.0</td>\n",
       "      <td>65.0</td>\n",
       "      <td>30.0</td>\n",
       "      <td>Video Games</td>\n",
       "      <td>30.0</td>\n",
       "      <td>Morning</td>\n",
       "      <td>50000</td>\n",
       "      <td>1</td>\n",
       "      <td>25.0</td>\n",
       "      <td>90</td>\n",
       "      <td>30.0</td>\n",
       "      <td>Good</td>\n",
       "      <td>good</td>\n",
       "      <td>No</td>\n",
       "    </tr>\n",
       "    <tr>\n",
       "      <th>...</th>\n",
       "      <td>...</td>\n",
       "      <td>...</td>\n",
       "      <td>...</td>\n",
       "      <td>...</td>\n",
       "      <td>...</td>\n",
       "      <td>...</td>\n",
       "      <td>...</td>\n",
       "      <td>...</td>\n",
       "      <td>...</td>\n",
       "      <td>...</td>\n",
       "      <td>...</td>\n",
       "      <td>...</td>\n",
       "      <td>...</td>\n",
       "      <td>...</td>\n",
       "      <td>...</td>\n",
       "      <td>...</td>\n",
       "      <td>...</td>\n",
       "      <td>...</td>\n",
       "      <td>...</td>\n",
       "    </tr>\n",
       "    <tr>\n",
       "      <th>226</th>\n",
       "      <td>Yes</td>\n",
       "      <td>Female</td>\n",
       "      <td>Commerce</td>\n",
       "      <td>167.0</td>\n",
       "      <td>65.0</td>\n",
       "      <td>93.0</td>\n",
       "      <td>85.0</td>\n",
       "      <td>90.0</td>\n",
       "      <td>Reading books</td>\n",
       "      <td>60.0</td>\n",
       "      <td>Night</td>\n",
       "      <td>15000</td>\n",
       "      <td>1</td>\n",
       "      <td>75.0</td>\n",
       "      <td>30</td>\n",
       "      <td>30.0</td>\n",
       "      <td>Good</td>\n",
       "      <td>good</td>\n",
       "      <td>No</td>\n",
       "    </tr>\n",
       "    <tr>\n",
       "      <th>227</th>\n",
       "      <td>Yes</td>\n",
       "      <td>Male</td>\n",
       "      <td>B.com ISM</td>\n",
       "      <td>167.0</td>\n",
       "      <td>55.0</td>\n",
       "      <td>55.0</td>\n",
       "      <td>57.0</td>\n",
       "      <td>60.0</td>\n",
       "      <td>Sports</td>\n",
       "      <td>30.0</td>\n",
       "      <td>Anytime</td>\n",
       "      <td>17000</td>\n",
       "      <td>1</td>\n",
       "      <td>25.0</td>\n",
       "      <td>0</td>\n",
       "      <td>0.0</td>\n",
       "      <td>Awful</td>\n",
       "      <td>Bad</td>\n",
       "      <td>No</td>\n",
       "    </tr>\n",
       "    <tr>\n",
       "      <th>228</th>\n",
       "      <td>Yes</td>\n",
       "      <td>Male</td>\n",
       "      <td>B.com ISM</td>\n",
       "      <td>155.0</td>\n",
       "      <td>68.0</td>\n",
       "      <td>75.0</td>\n",
       "      <td>75.0</td>\n",
       "      <td>65.0</td>\n",
       "      <td>Sports</td>\n",
       "      <td>60.0</td>\n",
       "      <td>Anytime</td>\n",
       "      <td>500</td>\n",
       "      <td>1</td>\n",
       "      <td>100.0</td>\n",
       "      <td>90</td>\n",
       "      <td>60.0</td>\n",
       "      <td>Good</td>\n",
       "      <td>good</td>\n",
       "      <td>No</td>\n",
       "    </tr>\n",
       "    <tr>\n",
       "      <th>229</th>\n",
       "      <td>No</td>\n",
       "      <td>Female</td>\n",
       "      <td>B.com ISM</td>\n",
       "      <td>153.0</td>\n",
       "      <td>60.0</td>\n",
       "      <td>60.0</td>\n",
       "      <td>70.0</td>\n",
       "      <td>70.0</td>\n",
       "      <td>Sports</td>\n",
       "      <td>60.0</td>\n",
       "      <td>Anytime</td>\n",
       "      <td>15000</td>\n",
       "      <td>1</td>\n",
       "      <td>75.0</td>\n",
       "      <td>60</td>\n",
       "      <td>0.0</td>\n",
       "      <td>Good</td>\n",
       "      <td>Bad</td>\n",
       "      <td>No</td>\n",
       "    </tr>\n",
       "    <tr>\n",
       "      <th>230</th>\n",
       "      <td>Yes</td>\n",
       "      <td>Male</td>\n",
       "      <td>B.com ISM</td>\n",
       "      <td>170.0</td>\n",
       "      <td>76.0</td>\n",
       "      <td>72.0</td>\n",
       "      <td>67.0</td>\n",
       "      <td>65.0</td>\n",
       "      <td>Video Games</td>\n",
       "      <td>30.0</td>\n",
       "      <td>Morning</td>\n",
       "      <td>7000</td>\n",
       "      <td>1</td>\n",
       "      <td>50.0</td>\n",
       "      <td>120</td>\n",
       "      <td>30.0</td>\n",
       "      <td>Bad</td>\n",
       "      <td>Bad</td>\n",
       "      <td>No</td>\n",
       "    </tr>\n",
       "  </tbody>\n",
       "</table>\n",
       "<p>166 rows × 19 columns</p>\n",
       "</div>"
      ],
      "text/plain": [
       "    CertificationCourses  Gender Department  Height(CM)  Weight(KG)  10Mark  \\\n",
       "0                     No    Male        BCA       100.0        58.0    79.0   \n",
       "1                     No  Female        BCA        90.0        40.0    70.0   \n",
       "2                    Yes    Male        BCA       159.0        78.0    69.5   \n",
       "3                    Yes  Female        BCA       147.0        20.0    70.0   \n",
       "4                     No    Male        BCA       170.0        54.0    40.0   \n",
       "..                   ...     ...        ...         ...         ...     ...   \n",
       "226                  Yes  Female   Commerce       167.0        65.0    93.0   \n",
       "227                  Yes    Male  B.com ISM       167.0        55.0    55.0   \n",
       "228                  Yes    Male  B.com ISM       155.0        68.0    75.0   \n",
       "229                   No  Female  B.com ISM       153.0        60.0    60.0   \n",
       "230                  Yes    Male  B.com ISM       170.0        76.0    72.0   \n",
       "\n",
       "     12Mark  CollegeMark        Hobbies  DailyStudingTime PreferToStudyIn  \\\n",
       "0      65.0         80.0    Video Games               0.0         Morning   \n",
       "1      80.0         70.0         Cinema              30.0         Morning   \n",
       "2      61.0         55.0         Cinema              60.0         Anytime   \n",
       "3      59.0         58.0  Reading books              60.0         Anytime   \n",
       "4      65.0         30.0    Video Games              30.0         Morning   \n",
       "..      ...          ...            ...               ...             ...   \n",
       "226    85.0         90.0  Reading books              60.0           Night   \n",
       "227    57.0         60.0         Sports              30.0         Anytime   \n",
       "228    75.0         65.0         Sports              60.0         Anytime   \n",
       "229    70.0         70.0         Sports              60.0         Anytime   \n",
       "230    67.0         65.0    Video Games              30.0         Morning   \n",
       "\n",
       "     SalaryExpectation  LikeDegree  CareerBasedonDegree  GamesSpendingTime  \\\n",
       "0                40000           0                 50.0                 90   \n",
       "1                15000           1                 75.0                 60   \n",
       "2                13000           1                 50.0                120   \n",
       "3              1500000           0                 50.0                 90   \n",
       "4                50000           1                 25.0                 90   \n",
       "..                 ...         ...                  ...                ...   \n",
       "226              15000           1                 75.0                 30   \n",
       "227              17000           1                 25.0                  0   \n",
       "228                500           1                100.0                 90   \n",
       "229              15000           1                 75.0                 60   \n",
       "230               7000           1                 50.0                120   \n",
       "\n",
       "     TravellingTime  StressLevel  FinancialStatus PartTimeJob?  \n",
       "0               30.0          Bad             Bad           No  \n",
       "1                0.0          Bad             Bad           No  \n",
       "2               30.0        Awful             Bad           No  \n",
       "3                0.0          Bad            good           No  \n",
       "4               30.0         Good            good           No  \n",
       "..               ...          ...             ...          ...  \n",
       "226             30.0         Good            good           No  \n",
       "227              0.0        Awful             Bad           No  \n",
       "228             60.0         Good            good           No  \n",
       "229              0.0         Good             Bad           No  \n",
       "230             30.0          Bad             Bad           No  \n",
       "\n",
       "[166 rows x 19 columns]"
      ]
     },
     "execution_count": 59,
     "metadata": {},
     "output_type": "execute_result"
    }
   ],
   "source": [
    "data"
   ]
  },
  {
   "cell_type": "code",
   "execution_count": 53,
   "id": "78ed296e",
   "metadata": {},
   "outputs": [],
   "source": [
    "from sklearn.model_selection import train_test_split\n",
    "X_train, X_test, y_train, y_test = train_test_split(data[per], data['LikeDegree'], test_size = 0.3)"
   ]
  },
  {
   "cell_type": "code",
   "execution_count": 54,
   "id": "1615176f",
   "metadata": {},
   "outputs": [
    {
     "name": "stdout",
     "output_type": "stream",
     "text": [
      "precision:  0.96\n",
      "recall:  1.0\n",
      "f1:  0.9795918367346939\n"
     ]
    }
   ],
   "source": [
    "neigh_3 = KNeighborsClassifier(n_neighbors=3)\n",
    "neigh_3.fit(X_train, y_train)\n",
    "predictions_3 = neigh_3.predict(X_test)\n",
    "metrics(predictions_3)"
   ]
  },
  {
   "cell_type": "code",
   "execution_count": 55,
   "id": "86173ba1",
   "metadata": {},
   "outputs": [
    {
     "name": "stdout",
     "output_type": "stream",
     "text": [
      "precision:  0.96\n",
      "recall:  1.0\n",
      "f1:  0.9795918367346939\n"
     ]
    }
   ],
   "source": [
    "neigh_5 = KNeighborsClassifier(n_neighbors=5)\n",
    "neigh_5.fit(X_train, y_train)\n",
    "predictions_5 = neigh_5.predict(X_test)\n",
    "metrics(predictions_5)"
   ]
  },
  {
   "cell_type": "code",
   "execution_count": 56,
   "id": "cf9af6c0",
   "metadata": {},
   "outputs": [
    {
     "name": "stdout",
     "output_type": "stream",
     "text": [
      "precision:  0.96\n",
      "recall:  1.0\n",
      "f1:  0.9795918367346939\n"
     ]
    }
   ],
   "source": [
    "neigh_7 = KNeighborsClassifier(n_neighbors=7)\n",
    "neigh_7.fit(X_train, y_train)\n",
    "predictions_7 = neigh_7.predict(X_test)\n",
    "metrics(predictions_7)"
   ]
  },
  {
   "cell_type": "markdown",
   "id": "d6956a47",
   "metadata": {},
   "source": [
    "Все три модели показывают одинаковые оценки точности. По сравнению с предыдущими качество и в правду улучшилось "
   ]
  },
  {
   "cell_type": "markdown",
   "id": "3f10e027",
   "metadata": {},
   "source": [
    "Наилучшей моделью может служить любая из моделей 6 задания. Показатель recall почти везде был максимальным, а именно 1. Это означает что все объекты первого класса мы смогли обнаружить.\\\n",
    "Следовательно определяющими показателями были метрики precision и f1. Они же имеют наибольшее значение в моделях из пункта 6."
   ]
  }
 ],
 "metadata": {
  "kernelspec": {
   "display_name": "Python 3",
   "language": "python",
   "name": "python3"
  },
  "language_info": {
   "codemirror_mode": {
    "name": "ipython",
    "version": 3
   },
   "file_extension": ".py",
   "mimetype": "text/x-python",
   "name": "python",
   "nbconvert_exporter": "python",
   "pygments_lexer": "ipython3",
   "version": "3.8.8"
  }
 },
 "nbformat": 4,
 "nbformat_minor": 5
}
