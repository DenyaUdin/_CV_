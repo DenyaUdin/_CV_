{
 "cells": [
  {
   "cell_type": "code",
   "execution_count": 1,
   "id": "4d860f47",
   "metadata": {},
   "outputs": [],
   "source": [
    "import torch\n",
    "import torchvision\n",
    "from torchvision import transforms\n",
    "import numpy as np\n",
    "import matplotlib.pyplot as plt  \n",
    "%matplotlib inline\n",
    "import warnings\n",
    "warnings.simplefilter(\"ignore\")\n",
    "import torch.nn as nn\n",
    "import torch.nn.functional as F \n",
    "from torchsummary import summary"
   ]
  },
  {
   "cell_type": "code",
   "execution_count": 2,
   "id": "52a66421",
   "metadata": {},
   "outputs": [],
   "source": [
    "device = 'cuda' if torch.cuda.is_available() else 'cpu'"
   ]
  },
  {
   "cell_type": "code",
   "execution_count": 3,
   "id": "85038904",
   "metadata": {},
   "outputs": [],
   "source": [
    "transform = transforms.Compose(\n",
    "    [transforms.ToTensor()])\n",
    "\n",
    "trainset = torchvision.datasets.MNIST(root='./data', train=True, \n",
    "                                      download=True, transform=transform)\n",
    "trainloader = torch.utils.data.DataLoader(trainset, batch_size=4,\n",
    "                                          shuffle=True, num_workers=2)\n",
    "\n",
    "testset = torchvision.datasets.MNIST(root='./data', train=False,\n",
    "                                     download=True, transform=transform)\n",
    "testloader = torch.utils.data.DataLoader(testset, batch_size=4,\n",
    "                                         shuffle=False, num_workers=2)\n",
    "\n",
    "classes = tuple(str(i) for i in range(10))"
   ]
  },
  {
   "cell_type": "code",
   "execution_count": 4,
   "id": "9ea3f757",
   "metadata": {},
   "outputs": [
    {
     "data": {
      "text/plain": [
       "torch.Size([60000, 28, 28])"
      ]
     },
     "execution_count": 4,
     "metadata": {},
     "output_type": "execute_result"
    }
   ],
   "source": [
    "trainloader.dataset.train_data.shape"
   ]
  },
  {
   "cell_type": "code",
   "execution_count": 5,
   "id": "442bf1f1",
   "metadata": {},
   "outputs": [
    {
     "data": {
      "text/plain": [
       "torch.Size([10000, 28, 28])"
      ]
     },
     "execution_count": 5,
     "metadata": {},
     "output_type": "execute_result"
    }
   ],
   "source": [
    "testloader.dataset.test_data.shape"
   ]
  },
  {
   "cell_type": "code",
   "execution_count": 6,
   "id": "12e3d0c7",
   "metadata": {},
   "outputs": [],
   "source": [
    "class MNIST_model_1(nn.Module):\n",
    "    def __init__(self):\n",
    "        super(MNIST_model_1, self).__init__()\n",
    "        self.conv1 = nn.Conv2d(in_channels=1, out_channels=16, kernel_size=5)\n",
    "        self.pool = nn.MaxPool2d(kernel_size=2, stride=2)\n",
    "        self.conv2 = nn.Conv2d(in_channels=16, out_channels=20, kernel_size=5)\n",
    "        self.fc1 = nn.Linear(4 * 4 * 20, 80) \n",
    "        self.fc2 = nn.Linear(80, 10)\n",
    "        \n",
    "\n",
    "    def forward(self, x):\n",
    "        x = self.pool(F.relu(self.conv1(x)))\n",
    "        x = self.pool(F.relu(self.conv2(x)))\n",
    "        #print(x.shape)\n",
    "        x = x.view(-1, 4 * 4 * 20) \n",
    "        x = F.relu(self.fc1(x))\n",
    "        x = self.fc2(x)\n",
    "        return x"
   ]
  },
  {
   "cell_type": "code",
   "execution_count": 7,
   "id": "e584209a",
   "metadata": {},
   "outputs": [
    {
     "name": "stdout",
     "output_type": "stream",
     "text": [
      "==========================================================================================\n",
      "Layer (type:depth-idx)                   Output Shape              Param #\n",
      "==========================================================================================\n",
      "├─Conv2d: 1-1                            [-1, 16, 24, 24]          416\n",
      "├─MaxPool2d: 1-2                         [-1, 16, 12, 12]          --\n",
      "├─Conv2d: 1-3                            [-1, 20, 8, 8]            8,020\n",
      "├─MaxPool2d: 1-4                         [-1, 20, 4, 4]            --\n",
      "├─Linear: 1-5                            [-1, 80]                  25,680\n",
      "├─Linear: 1-6                            [-1, 10]                  810\n",
      "==========================================================================================\n",
      "Total params: 34,926\n",
      "Trainable params: 34,926\n",
      "Non-trainable params: 0\n",
      "Total mult-adds (M): 0.77\n",
      "==========================================================================================\n",
      "Input size (MB): 0.00\n",
      "Forward/backward pass size (MB): 0.08\n",
      "Params size (MB): 0.13\n",
      "Estimated Total Size (MB): 0.22\n",
      "==========================================================================================\n"
     ]
    },
    {
     "data": {
      "text/plain": [
       "==========================================================================================\n",
       "Layer (type:depth-idx)                   Output Shape              Param #\n",
       "==========================================================================================\n",
       "├─Conv2d: 1-1                            [-1, 16, 24, 24]          416\n",
       "├─MaxPool2d: 1-2                         [-1, 16, 12, 12]          --\n",
       "├─Conv2d: 1-3                            [-1, 20, 8, 8]            8,020\n",
       "├─MaxPool2d: 1-4                         [-1, 20, 4, 4]            --\n",
       "├─Linear: 1-5                            [-1, 80]                  25,680\n",
       "├─Linear: 1-6                            [-1, 10]                  810\n",
       "==========================================================================================\n",
       "Total params: 34,926\n",
       "Trainable params: 34,926\n",
       "Non-trainable params: 0\n",
       "Total mult-adds (M): 0.77\n",
       "==========================================================================================\n",
       "Input size (MB): 0.00\n",
       "Forward/backward pass size (MB): 0.08\n",
       "Params size (MB): 0.13\n",
       "Estimated Total Size (MB): 0.22\n",
       "=========================================================================================="
      ]
     },
     "execution_count": 7,
     "metadata": {},
     "output_type": "execute_result"
    }
   ],
   "source": [
    "net_1 = MNIST_model_1()\n",
    "summary(net_1, (1,28, 28))"
   ]
  },
  {
   "cell_type": "markdown",
   "id": "a035e8b0",
   "metadata": {},
   "source": [
    "Первая модель состоит из 2 сверточных слоев с применением max-пулинга и 2 линейных слоя"
   ]
  },
  {
   "cell_type": "code",
   "execution_count": 8,
   "id": "0be92ed9",
   "metadata": {},
   "outputs": [],
   "source": [
    "from tqdm import tqdm_notebook\n",
    "net_1 = MNIST_model_1().to(device)\n",
    "loss_fn = torch.nn.CrossEntropyLoss()\n",
    "learning_rate = 1e-4\n",
    "optimizer = torch.optim.Adam(net_1.parameters(), lr=learning_rate)\n",
    "losses = []"
   ]
  },
  {
   "cell_type": "code",
   "execution_count": 9,
   "id": "cf88f127",
   "metadata": {},
   "outputs": [
    {
     "data": {
      "application/vnd.jupyter.widget-view+json": {
       "model_id": "73cd891bd46747b69cae1640efc1c48c",
       "version_major": 2,
       "version_minor": 0
      },
      "text/plain": [
       "  0%|          | 0/2 [00:00<?, ?it/s]"
      ]
     },
     "metadata": {},
     "output_type": "display_data"
    },
    {
     "data": {
      "application/vnd.jupyter.widget-view+json": {
       "model_id": "d5b83ced13e942699fc72da4be02f7d0",
       "version_major": 2,
       "version_minor": 0
      },
      "text/plain": [
       "  0%|          | 0/15000 [00:00<?, ?it/s]"
      ]
     },
     "metadata": {},
     "output_type": "display_data"
    },
    {
     "name": "stdout",
     "output_type": "stream",
     "text": [
      "[1,  1000] loss: 1304.461\n",
      "[1,  2000] loss: 444.579\n",
      "[1,  3000] loss: 321.767\n",
      "[1,  4000] loss: 280.540\n",
      "[1,  5000] loss: 225.511\n",
      "[1,  6000] loss: 215.039\n",
      "[1,  7000] loss: 205.528\n",
      "[1,  8000] loss: 160.248\n",
      "[1,  9000] loss: 171.032\n",
      "[1, 10000] loss: 156.230\n",
      "[1, 11000] loss: 153.200\n",
      "[1, 12000] loss: 131.250\n",
      "[1, 13000] loss: 124.465\n",
      "[1, 14000] loss: 104.539\n",
      "[1, 15000] loss: 132.939\n"
     ]
    },
    {
     "data": {
      "image/png": "[encoded data removed]",
      "text/plain": [
       "<Figure size 720x504 with 1 Axes>"
      ]
     },
     "metadata": {
      "needs_background": "light"
     },
     "output_type": "display_data"
    },
    {
     "data": {
      "application/vnd.jupyter.widget-view+json": {
       "model_id": "250608b9c89c4fd6a528914e1cab5a93",
       "version_major": 2,
       "version_minor": 0
      },
      "text/plain": [
       "  0%|          | 0/15000 [00:00<?, ?it/s]"
      ]
     },
     "metadata": {},
     "output_type": "display_data"
    },
    {
     "name": "stdout",
     "output_type": "stream",
     "text": [
      "[2,  1000] loss: 92.565\n",
      "[2,  2000] loss: 111.478\n",
      "[2,  3000] loss: 99.774\n",
      "[2,  4000] loss: 85.693\n",
      "[2,  5000] loss: 101.424\n",
      "[2,  6000] loss: 82.315\n",
      "[2,  7000] loss: 72.945\n",
      "[2,  8000] loss: 77.227\n",
      "[2,  9000] loss: 83.793\n",
      "[2, 10000] loss: 75.676\n",
      "[2, 11000] loss: 72.349\n",
      "[2, 12000] loss: 80.906\n",
      "[2, 13000] loss: 79.335\n",
      "[2, 14000] loss: 81.281\n",
      "[2, 15000] loss: 68.353\n",
      "Обучение закончено\n"
     ]
    }
   ],
   "source": [
    "fig = plt.figure(figsize=(10,7))\n",
    "ax = fig.add_subplot(1, 1, 1)\n",
    "torch.manual_seed(42)\n",
    "for epoch in tqdm_notebook(range(2)):\n",
    "    running_loss = 0.0\n",
    "    for i, batch in enumerate(tqdm_notebook(trainloader)):\n",
    "        X_batch, y_batch = batch\n",
    "        optimizer.zero_grad()\n",
    "        y_pred = net_1(X_batch.to(device))\n",
    "        loss = loss_fn(y_pred, y_batch.to(device))\n",
    "        loss.backward()\n",
    "        optimizer.step()\n",
    "        running_loss += loss.item()\n",
    "        if i % 1000 == 999:\n",
    "            print('[%d, %5d] loss: %.3f' %\n",
    "                  (epoch + 1, i + 1, running_loss))\n",
    "            losses.append(running_loss)\n",
    "            running_loss = 0.0\n",
    "    ax.clear()\n",
    "    ax.plot(np.arange(len(losses)), losses)\n",
    "    plt.show()\n",
    "\n",
    "print('Обучение закончено')"
   ]
  },
  {
   "cell_type": "code",
   "execution_count": 11,
   "id": "154f2a60",
   "metadata": {},
   "outputs": [
    {
     "name": "stdout",
     "output_type": "stream",
     "text": [
      "Accuracy of  0 : 98.987000 %\n",
      "Accuracy of  1 : 98.754079 %\n",
      "Accuracy of  2 : 98.371937 %\n",
      "Accuracy of  3 : 96.770511 %\n",
      "Accuracy of  4 : 98.065731 %\n",
      "Accuracy of  5 : 98.874746 %\n",
      "Accuracy of  6 : 99.121325 %\n",
      "Accuracy of  7 : 97.956903 %\n",
      "Accuracy of  8 : 96.342506 %\n",
      "Accuracy of  9 : 98.571188 %\n",
      "Accuracy : 98.180000 %\n"
     ]
    }
   ],
   "source": [
    "class_correct = list(0. for i in range(10))\n",
    "class_total = list(0. for i in range(10))\n",
    "\n",
    "with torch.no_grad():\n",
    "    for data in trainloader:\n",
    "        images, labels = data\n",
    "        y_pred = net_1(images.to(device))\n",
    "        _, predicted = torch.max(y_pred, 1)\n",
    "        c = (predicted.cpu().detach() == labels)\n",
    "        for i in range(4):\n",
    "            label = labels[i]\n",
    "            class_correct[label] += c[i].item()\n",
    "            class_total[label] += 1\n",
    "class_correct_all = 0\n",
    "\n",
    "for i in range(10):\n",
    "    print('Accuracy of %2s : %2f %%' % (\n",
    "        classes[i], 100 * class_correct[i] / class_total[i]))\n",
    "    class_correct_all += class_correct[i]\n",
    "print('Accuracy : %2f %%' % (100 * class_correct_all/ 60000))"
   ]
  },
  {
   "cell_type": "code",
   "execution_count": 13,
   "id": "022cc338",
   "metadata": {},
   "outputs": [
    {
     "name": "stdout",
     "output_type": "stream",
     "text": [
      "Accuracy of  0 : 99.081633 %\n",
      "Accuracy of  1 : 99.383260 %\n",
      "Accuracy of  2 : 98.352713 %\n",
      "Accuracy of  3 : 97.821782 %\n",
      "Accuracy of  4 : 97.759674 %\n",
      "Accuracy of  5 : 98.878924 %\n",
      "Accuracy of  6 : 98.329854 %\n",
      "Accuracy of  7 : 97.665370 %\n",
      "Accuracy of  8 : 97.433265 %\n",
      "Accuracy of  9 : 98.216056 %\n",
      "Accuracy : 98.300000 %\n"
     ]
    }
   ],
   "source": [
    "class_correct = list(0. for i in range(10))\n",
    "class_total = list(0. for i in range(10))\n",
    "\n",
    "with torch.no_grad():\n",
    "    for data in testloader:\n",
    "        images, labels = data\n",
    "        y_pred = net_1(images.to(device))\n",
    "        _, predicted = torch.max(y_pred, 1)\n",
    "        c = (predicted.cpu().detach() == labels)\n",
    "        for i in range(4):\n",
    "            label = labels[i]\n",
    "            class_correct[label] += c[i].item()\n",
    "            class_total[label] += 1\n",
    "class_correct_all = 0\n",
    "\n",
    "for i in range(10):\n",
    "    print('Accuracy of %2s : %2f %%' % (\n",
    "        classes[i], 100 * class_correct[i] / class_total[i]))\n",
    "    class_correct_all += class_correct[i]\n",
    "print('Accuracy : %2f %%' % (100 * class_correct_all/ 10000))"
   ]
  },
  {
   "cell_type": "markdown",
   "id": "2ec649de",
   "metadata": {},
   "source": [
    "Добавим еще один линейный слой и увеличим learning rate"
   ]
  },
  {
   "cell_type": "code",
   "execution_count": 18,
   "id": "dffaba25",
   "metadata": {},
   "outputs": [],
   "source": [
    "class MNIST_model_2(nn.Module):\n",
    "    def __init__(self):\n",
    "        super(MNIST_model_2, self).__init__()\n",
    "        self.conv1 = nn.Conv2d(in_channels=1, out_channels=16, kernel_size=5)\n",
    "        self.pool = nn.MaxPool2d(kernel_size=2, stride=2)\n",
    "        self.conv2 = nn.Conv2d(in_channels=16, out_channels=20, kernel_size=5)\n",
    "        self.fc1 = nn.Linear(4 * 4 * 20, 120) \n",
    "        self.fc2 = nn.Linear(120, 60)\n",
    "        self.fc3 = nn.Linear(60, 10)\n",
    "\n",
    "    def forward(self, x):\n",
    "        x = self.pool(F.relu(self.conv1(x)))\n",
    "        x = self.pool(F.relu(self.conv2(x)))\n",
    "        #print(x.shape)\n",
    "        x = x.view(-1, 4 * 4 * 20) \n",
    "        x = F.relu(self.fc1(x))\n",
    "        x = F.relu(self.fc2(x))\n",
    "        x = self.fc3(x)\n",
    "        return x"
   ]
  },
  {
   "cell_type": "code",
   "execution_count": 19,
   "id": "523e2c99",
   "metadata": {},
   "outputs": [
    {
     "name": "stdout",
     "output_type": "stream",
     "text": [
      "==========================================================================================\n",
      "Layer (type:depth-idx)                   Output Shape              Param #\n",
      "==========================================================================================\n",
      "├─Conv2d: 1-1                            [-1, 16, 24, 24]          416\n",
      "├─MaxPool2d: 1-2                         [-1, 16, 12, 12]          --\n",
      "├─Conv2d: 1-3                            [-1, 20, 8, 8]            8,020\n",
      "├─MaxPool2d: 1-4                         [-1, 20, 4, 4]            --\n",
      "├─Linear: 1-5                            [-1, 120]                 38,520\n",
      "├─Linear: 1-6                            [-1, 60]                  7,260\n",
      "├─Linear: 1-7                            [-1, 10]                  610\n",
      "==========================================================================================\n",
      "Total params: 54,826\n",
      "Trainable params: 54,826\n",
      "Non-trainable params: 0\n",
      "Total mult-adds (M): 0.79\n",
      "==========================================================================================\n",
      "Input size (MB): 0.00\n",
      "Forward/backward pass size (MB): 0.08\n",
      "Params size (MB): 0.21\n",
      "Estimated Total Size (MB): 0.29\n",
      "==========================================================================================\n"
     ]
    },
    {
     "data": {
      "text/plain": [
       "==========================================================================================\n",
       "Layer (type:depth-idx)                   Output Shape              Param #\n",
       "==========================================================================================\n",
       "├─Conv2d: 1-1                            [-1, 16, 24, 24]          416\n",
       "├─MaxPool2d: 1-2                         [-1, 16, 12, 12]          --\n",
       "├─Conv2d: 1-3                            [-1, 20, 8, 8]            8,020\n",
       "├─MaxPool2d: 1-4                         [-1, 20, 4, 4]            --\n",
       "├─Linear: 1-5                            [-1, 120]                 38,520\n",
       "├─Linear: 1-6                            [-1, 60]                  7,260\n",
       "├─Linear: 1-7                            [-1, 10]                  610\n",
       "==========================================================================================\n",
       "Total params: 54,826\n",
       "Trainable params: 54,826\n",
       "Non-trainable params: 0\n",
       "Total mult-adds (M): 0.79\n",
       "==========================================================================================\n",
       "Input size (MB): 0.00\n",
       "Forward/backward pass size (MB): 0.08\n",
       "Params size (MB): 0.21\n",
       "Estimated Total Size (MB): 0.29\n",
       "=========================================================================================="
      ]
     },
     "execution_count": 19,
     "metadata": {},
     "output_type": "execute_result"
    }
   ],
   "source": [
    "net_2 = MNIST_model_2()\n",
    "\n",
    "summary(net_2, (1,28, 28))"
   ]
  },
  {
   "cell_type": "code",
   "execution_count": 20,
   "id": "e7e26bde",
   "metadata": {},
   "outputs": [],
   "source": [
    "from tqdm import tqdm_notebook\n",
    "net_2 = MNIST_model_2().to(device)\n",
    "loss_fn = torch.nn.CrossEntropyLoss()\n",
    "learning_rate = 1e-3\n",
    "optimizer = torch.optim.Adam(net_2.parameters(), lr=learning_rate)\n",
    "losses = []"
   ]
  },
  {
   "cell_type": "code",
   "execution_count": 21,
   "id": "215331e9",
   "metadata": {},
   "outputs": [
    {
     "data": {
      "application/vnd.jupyter.widget-view+json": {
       "model_id": "19c5ebaa26fc4d78833ed6e080fdb249",
       "version_major": 2,
       "version_minor": 0
      },
      "text/plain": [
       "  0%|          | 0/2 [00:00<?, ?it/s]"
      ]
     },
     "metadata": {},
     "output_type": "display_data"
    },
    {
     "data": {
      "application/vnd.jupyter.widget-view+json": {
       "model_id": "5d52173cfc8f46e2b27677b4dcbef9e5",
       "version_major": 2,
       "version_minor": 0
      },
      "text/plain": [
       "  0%|          | 0/15000 [00:00<?, ?it/s]"
      ]
     },
     "metadata": {},
     "output_type": "display_data"
    },
    {
     "name": "stdout",
     "output_type": "stream",
     "text": [
      "[1,  1000] loss: 570.557\n",
      "[1,  2000] loss: 184.396\n",
      "[1,  3000] loss: 154.602\n",
      "[1,  4000] loss: 125.051\n",
      "[1,  5000] loss: 106.056\n",
      "[1,  6000] loss: 99.573\n",
      "[1,  7000] loss: 104.212\n",
      "[1,  8000] loss: 87.298\n",
      "[1,  9000] loss: 102.475\n",
      "[1, 10000] loss: 81.808\n",
      "[1, 11000] loss: 77.731\n",
      "[1, 12000] loss: 71.126\n",
      "[1, 13000] loss: 68.024\n",
      "[1, 14000] loss: 81.809\n",
      "[1, 15000] loss: 88.905\n"
     ]
    },
    {
     "data": {
      "image/png": "[encoded data removed]",
      "text/plain": [
       "<Figure size 720x504 with 1 Axes>"
      ]
     },
     "metadata": {
      "needs_background": "light"
     },
     "output_type": "display_data"
    },
    {
     "data": {
      "application/vnd.jupyter.widget-view+json": {
       "model_id": "5227ede6768e449794b42877e7fd9569",
       "version_major": 2,
       "version_minor": 0
      },
      "text/plain": [
       "  0%|          | 0/15000 [00:00<?, ?it/s]"
      ]
     },
     "metadata": {},
     "output_type": "display_data"
    },
    {
     "name": "stdout",
     "output_type": "stream",
     "text": [
      "[2,  1000] loss: 50.178\n",
      "[2,  2000] loss: 70.313\n",
      "[2,  3000] loss: 49.449\n",
      "[2,  4000] loss: 53.523\n",
      "[2,  5000] loss: 57.564\n",
      "[2,  6000] loss: 55.309\n",
      "[2,  7000] loss: 39.823\n",
      "[2,  8000] loss: 58.160\n",
      "[2,  9000] loss: 54.090\n",
      "[2, 10000] loss: 62.793\n",
      "[2, 11000] loss: 44.606\n",
      "[2, 12000] loss: 54.860\n",
      "[2, 13000] loss: 54.779\n",
      "[2, 14000] loss: 63.268\n",
      "[2, 15000] loss: 56.730\n",
      "Обучение закончено\n"
     ]
    }
   ],
   "source": [
    "fig = plt.figure(figsize=(10,7))\n",
    "ax = fig.add_subplot(1, 1, 1)\n",
    "torch.manual_seed(42)\n",
    "for epoch in tqdm_notebook(range(2)):\n",
    "    running_loss = 0.0\n",
    "    for i, batch in enumerate(tqdm_notebook(trainloader)):\n",
    "        X_batch, y_batch = batch\n",
    "        optimizer.zero_grad()\n",
    "        y_pred = net_2(X_batch.to(device))\n",
    "        loss = loss_fn(y_pred, y_batch.to(device))\n",
    "        loss.backward()\n",
    "        optimizer.step()\n",
    "\n",
    "        running_loss += loss.item()\n",
    "        if i % 1000 == 999:\n",
    "            print('[%d, %5d] loss: %.3f' %\n",
    "                  (epoch + 1, i + 1, running_loss))\n",
    "            losses.append(running_loss)\n",
    "            running_loss = 0.0\n",
    "\n",
    "    ax.clear()\n",
    "    ax.plot(np.arange(len(losses)), losses)\n",
    "    plt.show()\n",
    "\n",
    "print('Обучение закончено')"
   ]
  },
  {
   "cell_type": "code",
   "execution_count": 22,
   "id": "831d3b45",
   "metadata": {},
   "outputs": [
    {
     "name": "stdout",
     "output_type": "stream",
     "text": [
      "Accuracy of  0 : 99.746750 %\n",
      "Accuracy of  1 : 99.021062 %\n",
      "Accuracy of  2 : 99.060087 %\n",
      "Accuracy of  3 : 98.222150 %\n",
      "Accuracy of  4 : 97.209860 %\n",
      "Accuracy of  5 : 99.575724 %\n",
      "Accuracy of  6 : 99.138222 %\n",
      "Accuracy of  7 : 99.217877 %\n",
      "Accuracy of  8 : 99.042899 %\n",
      "Accuracy of  9 : 98.940998 %\n",
      "Accuracy : 98.915000 %\n"
     ]
    }
   ],
   "source": [
    "class_correct = list(0. for i in range(10))\n",
    "class_total = list(0. for i in range(10))\n",
    "\n",
    "with torch.no_grad():\n",
    "    for data in trainloader:\n",
    "        images, labels = data\n",
    "        y_pred = net_2(images.to(device))\n",
    "        _, predicted = torch.max(y_pred, 1)\n",
    "        c = (predicted.cpu().detach() == labels)\n",
    "        for i in range(4):\n",
    "            label = labels[i]\n",
    "            class_correct[label] += c[i].item()\n",
    "            class_total[label] += 1\n",
    "class_correct_all = 0\n",
    "\n",
    "for i in range(10):\n",
    "    print('Accuracy of %2s : %2f %%' % (\n",
    "        classes[i], 100 * class_correct[i] / class_total[i]))\n",
    "    class_correct_all += class_correct[i]\n",
    "print('Accuracy : %2f %%' % (100 * class_correct_all/ 60000))"
   ]
  },
  {
   "cell_type": "code",
   "execution_count": 23,
   "id": "f1210c8f",
   "metadata": {},
   "outputs": [
    {
     "name": "stdout",
     "output_type": "stream",
     "text": [
      "Accuracy of  0 : 99.591837 %\n",
      "Accuracy of  1 : 99.559471 %\n",
      "Accuracy of  2 : 99.224806 %\n",
      "Accuracy of  3 : 98.415842 %\n",
      "Accuracy of  4 : 97.657841 %\n",
      "Accuracy of  5 : 99.215247 %\n",
      "Accuracy of  6 : 98.225470 %\n",
      "Accuracy of  7 : 99.416342 %\n",
      "Accuracy of  8 : 99.383984 %\n",
      "Accuracy of  9 : 97.621407 %\n",
      "Accuracy : 98.840000 %\n"
     ]
    }
   ],
   "source": [
    "class_correct = list(0. for i in range(10))\n",
    "class_total = list(0. for i in range(10))\n",
    "\n",
    "with torch.no_grad():\n",
    "    for data in testloader:\n",
    "        images, labels = data\n",
    "        y_pred = net_2(images.to(device))\n",
    "        _, predicted = torch.max(y_pred, 1)\n",
    "        c = (predicted.cpu().detach() == labels)\n",
    "        for i in range(4):\n",
    "            label = labels[i]\n",
    "            class_correct[label] += c[i].item()\n",
    "            class_total[label] += 1\n",
    "class_correct_all = 0\n",
    "\n",
    "for i in range(10):\n",
    "    print('Accuracy of %2s : %2f %%' % (\n",
    "        classes[i], 100 * class_correct[i] / class_total[i]))\n",
    "    class_correct_all += class_correct[i]\n",
    "print('Accuracy : %2f %%' % (100 * class_correct_all/ 10000))"
   ]
  },
  {
   "cell_type": "markdown",
   "id": "fae6bf79",
   "metadata": {},
   "source": [
    "Слегка удалось повысить качество на обеих выборках "
   ]
  },
  {
   "cell_type": "markdown",
   "id": "4db98f99",
   "metadata": {},
   "source": [
    "Попробуем опять уменьшить learning rate и увеличим количество эпох"
   ]
  },
  {
   "cell_type": "code",
   "execution_count": 24,
   "id": "c352775e",
   "metadata": {},
   "outputs": [],
   "source": [
    "from tqdm import tqdm_notebook\n",
    "net_2 = MNIST_model_2().to(device)\n",
    "loss_fn = torch.nn.CrossEntropyLoss()\n",
    "learning_rate = 1e-4\n",
    "optimizer = torch.optim.Adam(net_2.parameters(), lr=learning_rate)\n",
    "losses = []"
   ]
  },
  {
   "cell_type": "code",
   "execution_count": 25,
   "id": "d92d605a",
   "metadata": {},
   "outputs": [
    {
     "data": {
      "application/vnd.jupyter.widget-view+json": {
       "model_id": "ae8ccca127fe493dacf7c72ab4bd1e53",
       "version_major": 2,
       "version_minor": 0
      },
      "text/plain": [
       "  0%|          | 0/4 [00:00<?, ?it/s]"
      ]
     },
     "metadata": {},
     "output_type": "display_data"
    },
    {
     "data": {
      "application/vnd.jupyter.widget-view+json": {
       "model_id": "0745efa070ed42a9844f2e49e96676b5",
       "version_major": 2,
       "version_minor": 0
      },
      "text/plain": [
       "  0%|          | 0/15000 [00:00<?, ?it/s]"
      ]
     },
     "metadata": {},
     "output_type": "display_data"
    },
    {
     "name": "stdout",
     "output_type": "stream",
     "text": [
      "[1,  1000] loss: 1318.780\n",
      "[1,  2000] loss: 401.508\n",
      "[1,  3000] loss: 297.594\n",
      "[1,  4000] loss: 256.577\n",
      "[1,  5000] loss: 200.396\n",
      "[1,  6000] loss: 193.334\n",
      "[1,  7000] loss: 191.848\n",
      "[1,  8000] loss: 146.883\n",
      "[1,  9000] loss: 157.938\n",
      "[1, 10000] loss: 149.010\n",
      "[1, 11000] loss: 139.344\n",
      "[1, 12000] loss: 126.588\n",
      "[1, 13000] loss: 114.522\n",
      "[1, 14000] loss: 105.401\n",
      "[1, 15000] loss: 133.611\n"
     ]
    },
    {
     "data": {
      "image/png": "[encoded data removed]",
      "text/plain": [
       "<Figure size 720x504 with 1 Axes>"
      ]
     },
     "metadata": {
      "needs_background": "light"
     },
     "output_type": "display_data"
    },
    {
     "data": {
      "application/vnd.jupyter.widget-view+json": {
       "model_id": "e122c20003b54e818da976e3497e0cae",
       "version_major": 2,
       "version_minor": 0
      },
      "text/plain": [
       "  0%|          | 0/15000 [00:00<?, ?it/s]"
      ]
     },
     "metadata": {},
     "output_type": "display_data"
    },
    {
     "name": "stdout",
     "output_type": "stream",
     "text": [
      "[2,  1000] loss: 91.560\n",
      "[2,  2000] loss: 106.563\n",
      "[2,  3000] loss: 96.584\n",
      "[2,  4000] loss: 91.578\n",
      "[2,  5000] loss: 101.819\n",
      "[2,  6000] loss: 81.522\n",
      "[2,  7000] loss: 70.664\n",
      "[2,  8000] loss: 84.126\n",
      "[2,  9000] loss: 79.789\n",
      "[2, 10000] loss: 77.112\n",
      "[2, 11000] loss: 70.324\n",
      "[2, 12000] loss: 86.983\n",
      "[2, 13000] loss: 80.599\n",
      "[2, 14000] loss: 78.843\n",
      "[2, 15000] loss: 70.235\n"
     ]
    },
    {
     "data": {
      "application/vnd.jupyter.widget-view+json": {
       "model_id": "7ace4734c67240c69c9a84b64889ae2a",
       "version_major": 2,
       "version_minor": 0
      },
      "text/plain": [
       "  0%|          | 0/15000 [00:00<?, ?it/s]"
      ]
     },
     "metadata": {},
     "output_type": "display_data"
    },
    {
     "name": "stdout",
     "output_type": "stream",
     "text": [
      "[3,  1000] loss: 62.232\n",
      "[3,  2000] loss: 74.754\n",
      "[3,  3000] loss: 73.296\n",
      "[3,  4000] loss: 65.515\n",
      "[3,  5000] loss: 62.270\n",
      "[3,  6000] loss: 63.483\n",
      "[3,  7000] loss: 56.661\n",
      "[3,  8000] loss: 52.968\n",
      "[3,  9000] loss: 56.113\n",
      "[3, 10000] loss: 64.877\n",
      "[3, 11000] loss: 54.813\n",
      "[3, 12000] loss: 49.083\n",
      "[3, 13000] loss: 69.731\n",
      "[3, 14000] loss: 46.656\n",
      "[3, 15000] loss: 63.122\n"
     ]
    },
    {
     "data": {
      "application/vnd.jupyter.widget-view+json": {
       "model_id": "722d33238ed44e7d97a45a6275a8872e",
       "version_major": 2,
       "version_minor": 0
      },
      "text/plain": [
       "  0%|          | 0/15000 [00:00<?, ?it/s]"
      ]
     },
     "metadata": {},
     "output_type": "display_data"
    },
    {
     "name": "stdout",
     "output_type": "stream",
     "text": [
      "[4,  1000] loss: 61.259\n",
      "[4,  2000] loss: 46.803\n",
      "[4,  3000] loss: 47.868\n",
      "[4,  4000] loss: 57.607\n",
      "[4,  5000] loss: 50.562\n",
      "[4,  6000] loss: 44.108\n",
      "[4,  7000] loss: 50.011\n",
      "[4,  8000] loss: 46.929\n",
      "[4,  9000] loss: 45.614\n",
      "[4, 10000] loss: 52.093\n",
      "[4, 11000] loss: 44.268\n",
      "[4, 12000] loss: 43.523\n",
      "[4, 13000] loss: 43.877\n",
      "[4, 14000] loss: 45.077\n",
      "[4, 15000] loss: 46.189\n",
      "Обучение закончено\n"
     ]
    }
   ],
   "source": [
    "fig = plt.figure(figsize=(10,7))\n",
    "ax = fig.add_subplot(1, 1, 1)\n",
    "torch.manual_seed(42)\n",
    "for epoch in tqdm_notebook(range(4)):\n",
    "    running_loss = 0.0\n",
    "    for i, batch in enumerate(tqdm_notebook(trainloader)):\n",
    "        X_batch, y_batch = batch\n",
    "        optimizer.zero_grad()\n",
    "        y_pred = net_2(X_batch.to(device))\n",
    "        loss = loss_fn(y_pred, y_batch.to(device))\n",
    "        loss.backward()\n",
    "        optimizer.step()\n",
    "\n",
    "        running_loss += loss.item()\n",
    "        if i % 1000 == 999:\n",
    "            print('[%d, %5d] loss: %.3f' %\n",
    "                  (epoch + 1, i + 1, running_loss))\n",
    "            losses.append(running_loss)\n",
    "            running_loss = 0.0\n",
    "\n",
    "    ax.clear()\n",
    "    ax.plot(np.arange(len(losses)), losses)\n",
    "    plt.show()\n",
    "\n",
    "print('Обучение закончено')"
   ]
  },
  {
   "cell_type": "code",
   "execution_count": 26,
   "id": "7dcb7768",
   "metadata": {},
   "outputs": [
    {
     "name": "stdout",
     "output_type": "stream",
     "text": [
      "Accuracy of  0 : 99.915583 %\n",
      "Accuracy of  1 : 99.021062 %\n",
      "Accuracy of  2 : 99.429339 %\n",
      "Accuracy of  3 : 97.667591 %\n",
      "Accuracy of  4 : 99.418008 %\n",
      "Accuracy of  5 : 98.671832 %\n",
      "Accuracy of  6 : 97.786414 %\n",
      "Accuracy of  7 : 98.260176 %\n",
      "Accuracy of  8 : 98.701077 %\n",
      "Accuracy of  9 : 98.083712 %\n",
      "Accuracy : 98.693333 %\n"
     ]
    }
   ],
   "source": [
    "class_correct = list(0. for i in range(10))\n",
    "class_total = list(0. for i in range(10))\n",
    "\n",
    "with torch.no_grad():\n",
    "    for data in trainloader:\n",
    "        images, labels = data\n",
    "        y_pred = net_2(images.to(device))\n",
    "        _, predicted = torch.max(y_pred, 1)\n",
    "        c = (predicted.cpu().detach() == labels)\n",
    "        for i in range(4):\n",
    "            label = labels[i]\n",
    "            class_correct[label] += c[i].item()\n",
    "            class_total[label] += 1\n",
    "class_correct_all = 0\n",
    "\n",
    "for i in range(10):\n",
    "    print('Accuracy of %2s : %2f %%' % (\n",
    "        classes[i], 100 * class_correct[i] / class_total[i]))\n",
    "    class_correct_all += class_correct[i]\n",
    "print('Accuracy : %2f %%' % (100 * class_correct_all/ 60000))"
   ]
  },
  {
   "cell_type": "code",
   "execution_count": 27,
   "id": "6213df1c",
   "metadata": {},
   "outputs": [
    {
     "name": "stdout",
     "output_type": "stream",
     "text": [
      "Accuracy of  0 : 99.795918 %\n",
      "Accuracy of  1 : 99.383260 %\n",
      "Accuracy of  2 : 99.515504 %\n",
      "Accuracy of  3 : 98.514851 %\n",
      "Accuracy of  4 : 99.185336 %\n",
      "Accuracy of  5 : 98.318386 %\n",
      "Accuracy of  6 : 96.242171 %\n",
      "Accuracy of  7 : 97.762646 %\n",
      "Accuracy of  8 : 98.767967 %\n",
      "Accuracy of  9 : 97.918731 %\n",
      "Accuracy : 98.560000 %\n"
     ]
    }
   ],
   "source": [
    "class_correct = list(0. for i in range(10))\n",
    "class_total = list(0. for i in range(10))\n",
    "\n",
    "with torch.no_grad():\n",
    "    for data in testloader:\n",
    "        images, labels = data\n",
    "        y_pred = net_2(images.to(device))\n",
    "        _, predicted = torch.max(y_pred, 1)\n",
    "        c = (predicted.cpu().detach() == labels)\n",
    "        for i in range(4):\n",
    "            label = labels[i]\n",
    "            class_correct[label] += c[i].item()\n",
    "            class_total[label] += 1\n",
    "class_correct_all = 0\n",
    "\n",
    "for i in range(10):\n",
    "    print('Accuracy of %2s : %2f %%' % (\n",
    "        classes[i], 100 * class_correct[i] / class_total[i]))\n",
    "    class_correct_all += class_correct[i]\n",
    "print('Accuracy : %2f %%' % (100 * class_correct_all/ 10000))"
   ]
  },
  {
   "cell_type": "markdown",
   "id": "c2842c9d",
   "metadata": {},
   "source": [
    "Судя по loss 2-х эпох вполне достаточно. Попробуем увеличить число свёрток."
   ]
  },
  {
   "cell_type": "code",
   "execution_count": 28,
   "id": "6947e99b",
   "metadata": {},
   "outputs": [],
   "source": [
    "class MNIST_model_3(nn.Module):\n",
    "    def __init__(self):\n",
    "        super(MNIST_model_3, self).__init__()\n",
    "        self.conv1 = nn.Conv2d(in_channels=1, out_channels=32, kernel_size=5)\n",
    "        self.pool = nn.MaxPool2d(kernel_size=2, stride=2)\n",
    "        self.conv2 = nn.Conv2d(in_channels=32, out_channels=64, kernel_size=5)\n",
    "        self.fc1 = nn.Linear(4 * 4 * 64, 150) \n",
    "        self.fc2 = nn.Linear(150, 80)\n",
    "        self.fc3 = nn.Linear(80, 10)\n",
    "\n",
    "    def forward(self, x):\n",
    "        x = self.pool(F.relu(self.conv1(x)))\n",
    "        x = self.pool(F.relu(self.conv2(x)))\n",
    "        #print(x.shape)\n",
    "        x = x.view(-1, 4 * 4 * 64) \n",
    "        x = F.relu(self.fc1(x))\n",
    "        x = F.relu(self.fc2(x))\n",
    "        x = self.fc3(x)\n",
    "        return x"
   ]
  },
  {
   "cell_type": "code",
   "execution_count": 30,
   "id": "878786a1",
   "metadata": {},
   "outputs": [
    {
     "name": "stdout",
     "output_type": "stream",
     "text": [
      "==========================================================================================\n",
      "Layer (type:depth-idx)                   Output Shape              Param #\n",
      "==========================================================================================\n",
      "├─Conv2d: 1-1                            [-1, 32, 24, 24]          832\n",
      "├─MaxPool2d: 1-2                         [-1, 32, 12, 12]          --\n",
      "├─Conv2d: 1-3                            [-1, 64, 8, 8]            51,264\n",
      "├─MaxPool2d: 1-4                         [-1, 64, 4, 4]            --\n",
      "├─Linear: 1-5                            [-1, 150]                 153,750\n",
      "├─Linear: 1-6                            [-1, 80]                  12,080\n",
      "├─Linear: 1-7                            [-1, 10]                  810\n",
      "==========================================================================================\n",
      "Total params: 218,736\n",
      "Trainable params: 218,736\n",
      "Non-trainable params: 0\n",
      "Total mult-adds (M): 3.90\n",
      "==========================================================================================\n",
      "Input size (MB): 0.00\n",
      "Forward/backward pass size (MB): 0.17\n",
      "Params size (MB): 0.83\n",
      "Estimated Total Size (MB): 1.01\n",
      "==========================================================================================\n"
     ]
    },
    {
     "data": {
      "text/plain": [
       "==========================================================================================\n",
       "Layer (type:depth-idx)                   Output Shape              Param #\n",
       "==========================================================================================\n",
       "├─Conv2d: 1-1                            [-1, 32, 24, 24]          832\n",
       "├─MaxPool2d: 1-2                         [-1, 32, 12, 12]          --\n",
       "├─Conv2d: 1-3                            [-1, 64, 8, 8]            51,264\n",
       "├─MaxPool2d: 1-4                         [-1, 64, 4, 4]            --\n",
       "├─Linear: 1-5                            [-1, 150]                 153,750\n",
       "├─Linear: 1-6                            [-1, 80]                  12,080\n",
       "├─Linear: 1-7                            [-1, 10]                  810\n",
       "==========================================================================================\n",
       "Total params: 218,736\n",
       "Trainable params: 218,736\n",
       "Non-trainable params: 0\n",
       "Total mult-adds (M): 3.90\n",
       "==========================================================================================\n",
       "Input size (MB): 0.00\n",
       "Forward/backward pass size (MB): 0.17\n",
       "Params size (MB): 0.83\n",
       "Estimated Total Size (MB): 1.01\n",
       "=========================================================================================="
      ]
     },
     "execution_count": 30,
     "metadata": {},
     "output_type": "execute_result"
    }
   ],
   "source": [
    "net_3 = MNIST_model_3()\n",
    "\n",
    "summary(net_3, (1,28, 28))"
   ]
  },
  {
   "cell_type": "code",
   "execution_count": 31,
   "id": "8abc5c15",
   "metadata": {},
   "outputs": [],
   "source": [
    "from tqdm import tqdm_notebook\n",
    "net_3 = MNIST_model_3().to(device)\n",
    "loss_fn = torch.nn.CrossEntropyLoss()\n",
    "learning_rate = 1e-3\n",
    "optimizer = torch.optim.Adam(net_3.parameters(), lr=learning_rate)\n",
    "losses = []"
   ]
  },
  {
   "cell_type": "code",
   "execution_count": 32,
   "id": "d860eb6f",
   "metadata": {},
   "outputs": [
    {
     "data": {
      "application/vnd.jupyter.widget-view+json": {
       "model_id": "c751bfcbf0cd46f59450e6decbcfa40d",
       "version_major": 2,
       "version_minor": 0
      },
      "text/plain": [
       "  0%|          | 0/2 [00:00<?, ?it/s]"
      ]
     },
     "metadata": {},
     "output_type": "display_data"
    },
    {
     "data": {
      "application/vnd.jupyter.widget-view+json": {
       "model_id": "05bb2cb24c814a9a8b049dac0290f302",
       "version_major": 2,
       "version_minor": 0
      },
      "text/plain": [
       "  0%|          | 0/15000 [00:00<?, ?it/s]"
      ]
     },
     "metadata": {},
     "output_type": "display_data"
    },
    {
     "name": "stdout",
     "output_type": "stream",
     "text": [
      "[1,  1000] loss: 508.880\n",
      "[1,  2000] loss: 156.754\n",
      "[1,  3000] loss: 136.005\n",
      "[1,  4000] loss: 107.346\n",
      "[1,  5000] loss: 89.814\n",
      "[1,  6000] loss: 90.310\n",
      "[1,  7000] loss: 87.915\n",
      "[1,  8000] loss: 82.874\n",
      "[1,  9000] loss: 79.828\n",
      "[1, 10000] loss: 77.703\n",
      "[1, 11000] loss: 67.094\n",
      "[1, 12000] loss: 62.892\n",
      "[1, 13000] loss: 61.392\n",
      "[1, 14000] loss: 66.277\n",
      "[1, 15000] loss: 80.771\n"
     ]
    },
    {
     "data": {
      "image/png": "[encoded data removed]",
      "text/plain": [
       "<Figure size 720x504 with 1 Axes>"
      ]
     },
     "metadata": {
      "needs_background": "light"
     },
     "output_type": "display_data"
    },
    {
     "data": {
      "application/vnd.jupyter.widget-view+json": {
       "model_id": "1df68e4379f34a26978a47c660df4a16",
       "version_major": 2,
       "version_minor": 0
      },
      "text/plain": [
       "  0%|          | 0/15000 [00:00<?, ?it/s]"
      ]
     },
     "metadata": {},
     "output_type": "display_data"
    },
    {
     "name": "stdout",
     "output_type": "stream",
     "text": [
      "[2,  1000] loss: 39.765\n",
      "[2,  2000] loss: 60.113\n",
      "[2,  3000] loss: 51.763\n",
      "[2,  4000] loss: 56.912\n",
      "[2,  5000] loss: 56.598\n",
      "[2,  6000] loss: 48.095\n",
      "[2,  7000] loss: 32.225\n",
      "[2,  8000] loss: 49.171\n",
      "[2,  9000] loss: 51.886\n",
      "[2, 10000] loss: 48.145\n",
      "[2, 11000] loss: 44.126\n",
      "[2, 12000] loss: 64.882\n",
      "[2, 13000] loss: 55.625\n",
      "[2, 14000] loss: 62.484\n",
      "[2, 15000] loss: 53.315\n",
      "Обучение закончено\n"
     ]
    }
   ],
   "source": [
    "fig = plt.figure(figsize=(10,7))\n",
    "ax = fig.add_subplot(1, 1, 1)\n",
    "torch.manual_seed(42)\n",
    "for epoch in tqdm_notebook(range(2)):\n",
    "    running_loss = 0.0\n",
    "    for i, batch in enumerate(tqdm_notebook(trainloader)):\n",
    "        X_batch, y_batch = batch\n",
    "        optimizer.zero_grad()\n",
    "        y_pred = net_3(X_batch.to(device))\n",
    "        loss = loss_fn(y_pred, y_batch.to(device))\n",
    "        loss.backward()\n",
    "        optimizer.step()\n",
    "\n",
    "        running_loss += loss.item()\n",
    "        if i % 1000 == 999:\n",
    "            print('[%d, %5d] loss: %.3f' %\n",
    "                  (epoch + 1, i + 1, running_loss))\n",
    "            losses.append(running_loss)\n",
    "            running_loss = 0.0\n",
    "\n",
    "    ax.clear()\n",
    "    ax.plot(np.arange(len(losses)), losses)\n",
    "    plt.show()\n",
    "\n",
    "print('Обучение закончено')"
   ]
  },
  {
   "cell_type": "code",
   "execution_count": 33,
   "id": "b7de2a3b",
   "metadata": {},
   "outputs": [
    {
     "name": "stdout",
     "output_type": "stream",
     "text": [
      "Accuracy of  0 : 99.138950 %\n",
      "Accuracy of  1 : 98.590923 %\n",
      "Accuracy of  2 : 99.446123 %\n",
      "Accuracy of  3 : 99.151851 %\n",
      "Accuracy of  4 : 99.092776 %\n",
      "Accuracy of  5 : 99.299022 %\n",
      "Accuracy of  6 : 99.543765 %\n",
      "Accuracy of  7 : 99.409417 %\n",
      "Accuracy of  8 : 99.606905 %\n",
      "Accuracy of  9 : 99.058665 %\n",
      "Accuracy : 99.225000 %\n"
     ]
    }
   ],
   "source": [
    "class_correct = list(0. for i in range(10))\n",
    "class_total = list(0. for i in range(10))\n",
    "\n",
    "with torch.no_grad():\n",
    "    for data in trainloader:\n",
    "        images, labels = data\n",
    "        y_pred = net_3(images.to(device))\n",
    "        _, predicted = torch.max(y_pred, 1)\n",
    "        c = (predicted.cpu().detach() == labels)\n",
    "        for i in range(4):\n",
    "            label = labels[i]\n",
    "            class_correct[label] += c[i].item()\n",
    "            class_total[label] += 1\n",
    "class_correct_all = 0\n",
    "\n",
    "for i in range(10):\n",
    "    print('Accuracy of %2s : %2f %%' % (\n",
    "        classes[i], 100 * class_correct[i] / class_total[i]))\n",
    "    class_correct_all += class_correct[i]\n",
    "print('Accuracy : %2f %%' % (100 * class_correct_all/ 60000))"
   ]
  },
  {
   "cell_type": "code",
   "execution_count": 34,
   "id": "645f7b78",
   "metadata": {},
   "outputs": [
    {
     "name": "stdout",
     "output_type": "stream",
     "text": [
      "Accuracy of  0 : 99.183673 %\n",
      "Accuracy of  1 : 98.766520 %\n",
      "Accuracy of  2 : 99.031008 %\n",
      "Accuracy of  3 : 99.009901 %\n",
      "Accuracy of  4 : 99.083503 %\n",
      "Accuracy of  5 : 98.991031 %\n",
      "Accuracy of  6 : 98.851775 %\n",
      "Accuracy of  7 : 99.221790 %\n",
      "Accuracy of  8 : 99.383984 %\n",
      "Accuracy of  9 : 98.216056 %\n",
      "Accuracy : 98.970000 %\n"
     ]
    }
   ],
   "source": [
    "class_correct = list(0. for i in range(10))\n",
    "class_total = list(0. for i in range(10))\n",
    "\n",
    "with torch.no_grad():\n",
    "    for data in testloader:\n",
    "        images, labels = data\n",
    "        y_pred = net_3(images.to(device))\n",
    "        _, predicted = torch.max(y_pred, 1)\n",
    "        c = (predicted.cpu().detach() == labels)\n",
    "        for i in range(4):\n",
    "            label = labels[i]\n",
    "            class_correct[label] += c[i].item()\n",
    "            class_total[label] += 1\n",
    "class_correct_all = 0\n",
    "\n",
    "for i in range(10):\n",
    "    print('Accuracy of %2s : %2f %%' % (\n",
    "        classes[i], 100 * class_correct[i] / class_total[i]))\n",
    "    class_correct_all += class_correct[i]\n",
    "print('Accuracy : %2f %%' % (100 * class_correct_all/ 10000))"
   ]
  },
  {
   "cell_type": "markdown",
   "id": "3e67a275",
   "metadata": {},
   "source": [
    "По итогу удалось повысить качество предсказания на тестовой выборке почти до 99%.\n",
    "Попробуем заменить функцию активации relu на leaky_relu, чтобы избавиться от проблемы затухающих градиентов слева"
   ]
  },
  {
   "cell_type": "code",
   "execution_count": 35,
   "id": "b9292a68",
   "metadata": {},
   "outputs": [],
   "source": [
    "class MNIST_model_4(nn.Module):\n",
    "    def __init__(self):\n",
    "        super(MNIST_model_4, self).__init__()\n",
    "        self.conv1 = nn.Conv2d(in_channels=1, out_channels=32, kernel_size=5)\n",
    "        self.pool = nn.MaxPool2d(kernel_size=2, stride=2)\n",
    "        self.conv2 = nn.Conv2d(in_channels=32, out_channels=64, kernel_size=5)\n",
    "        self.fc1 = nn.Linear(4 * 4 * 64, 150) \n",
    "        self.fc2 = nn.Linear(150, 80)\n",
    "        self.fc3 = nn.Linear(80, 10)\n",
    "\n",
    "    def forward(self, x):\n",
    "        x = self.pool(F.leaky_relu(self.conv1(x)))\n",
    "        x = self.pool(F.leaky_relu(self.conv2(x)))\n",
    "        #print(x.shape)\n",
    "        x = x.view(-1, 4 * 4 * 64) \n",
    "        x = F.leaky_relu(self.fc1(x))\n",
    "        x = F.leaky_relu(self.fc2(x))\n",
    "        x = self.fc3(x)\n",
    "        return x"
   ]
  },
  {
   "cell_type": "code",
   "execution_count": 36,
   "id": "98bdbd78",
   "metadata": {},
   "outputs": [
    {
     "name": "stdout",
     "output_type": "stream",
     "text": [
      "==========================================================================================\n",
      "Layer (type:depth-idx)                   Output Shape              Param #\n",
      "==========================================================================================\n",
      "├─Conv2d: 1-1                            [-1, 32, 24, 24]          832\n",
      "├─MaxPool2d: 1-2                         [-1, 32, 12, 12]          --\n",
      "├─Conv2d: 1-3                            [-1, 64, 8, 8]            51,264\n",
      "├─MaxPool2d: 1-4                         [-1, 64, 4, 4]            --\n",
      "├─Linear: 1-5                            [-1, 150]                 153,750\n",
      "├─Linear: 1-6                            [-1, 80]                  12,080\n",
      "├─Linear: 1-7                            [-1, 10]                  810\n",
      "==========================================================================================\n",
      "Total params: 218,736\n",
      "Trainable params: 218,736\n",
      "Non-trainable params: 0\n",
      "Total mult-adds (M): 3.90\n",
      "==========================================================================================\n",
      "Input size (MB): 0.00\n",
      "Forward/backward pass size (MB): 0.17\n",
      "Params size (MB): 0.83\n",
      "Estimated Total Size (MB): 1.01\n",
      "==========================================================================================\n"
     ]
    },
    {
     "data": {
      "text/plain": [
       "==========================================================================================\n",
       "Layer (type:depth-idx)                   Output Shape              Param #\n",
       "==========================================================================================\n",
       "├─Conv2d: 1-1                            [-1, 32, 24, 24]          832\n",
       "├─MaxPool2d: 1-2                         [-1, 32, 12, 12]          --\n",
       "├─Conv2d: 1-3                            [-1, 64, 8, 8]            51,264\n",
       "├─MaxPool2d: 1-4                         [-1, 64, 4, 4]            --\n",
       "├─Linear: 1-5                            [-1, 150]                 153,750\n",
       "├─Linear: 1-6                            [-1, 80]                  12,080\n",
       "├─Linear: 1-7                            [-1, 10]                  810\n",
       "==========================================================================================\n",
       "Total params: 218,736\n",
       "Trainable params: 218,736\n",
       "Non-trainable params: 0\n",
       "Total mult-adds (M): 3.90\n",
       "==========================================================================================\n",
       "Input size (MB): 0.00\n",
       "Forward/backward pass size (MB): 0.17\n",
       "Params size (MB): 0.83\n",
       "Estimated Total Size (MB): 1.01\n",
       "=========================================================================================="
      ]
     },
     "execution_count": 36,
     "metadata": {},
     "output_type": "execute_result"
    }
   ],
   "source": [
    "net_4 = MNIST_model_4()\n",
    "\n",
    "summary(net_4, (1,28, 28))"
   ]
  },
  {
   "cell_type": "code",
   "execution_count": 37,
   "id": "b08b8f81",
   "metadata": {},
   "outputs": [],
   "source": [
    "from tqdm import tqdm_notebook\n",
    "net_4 = MNIST_model_4().to(device)\n",
    "loss_fn = torch.nn.CrossEntropyLoss()\n",
    "learning_rate = 1e-3\n",
    "optimizer = torch.optim.Adam(net_4.parameters(), lr=learning_rate)\n",
    "losses = []"
   ]
  },
  {
   "cell_type": "code",
   "execution_count": 38,
   "id": "b288ae47",
   "metadata": {},
   "outputs": [
    {
     "data": {
      "application/vnd.jupyter.widget-view+json": {
       "model_id": "466e8ae2ff31443dba85853a095a30d6",
       "version_major": 2,
       "version_minor": 0
      },
      "text/plain": [
       "  0%|          | 0/2 [00:00<?, ?it/s]"
      ]
     },
     "metadata": {},
     "output_type": "display_data"
    },
    {
     "data": {
      "application/vnd.jupyter.widget-view+json": {
       "model_id": "cf33b4ae6f624d7ca70ecaa585950d28",
       "version_major": 2,
       "version_minor": 0
      },
      "text/plain": [
       "  0%|          | 0/15000 [00:00<?, ?it/s]"
      ]
     },
     "metadata": {},
     "output_type": "display_data"
    },
    {
     "name": "stdout",
     "output_type": "stream",
     "text": [
      "[1,  1000] loss: 470.313\n",
      "[1,  2000] loss: 151.666\n",
      "[1,  3000] loss: 133.795\n",
      "[1,  4000] loss: 103.107\n",
      "[1,  5000] loss: 89.176\n",
      "[1,  6000] loss: 87.288\n",
      "[1,  7000] loss: 80.042\n",
      "[1,  8000] loss: 78.336\n",
      "[1,  9000] loss: 85.214\n",
      "[1, 10000] loss: 82.390\n",
      "[1, 11000] loss: 66.979\n",
      "[1, 12000] loss: 67.807\n",
      "[1, 13000] loss: 55.731\n",
      "[1, 14000] loss: 73.195\n",
      "[1, 15000] loss: 86.749\n"
     ]
    },
    {
     "data": {
      "image/png": "[encoded data removed]",
      "text/plain": [
       "<Figure size 720x504 with 1 Axes>"
      ]
     },
     "metadata": {
      "needs_background": "light"
     },
     "output_type": "display_data"
    },
    {
     "data": {
      "application/vnd.jupyter.widget-view+json": {
       "model_id": "5ca906ecf4d74bbc88ea853f00eed520",
       "version_major": 2,
       "version_minor": 0
      },
      "text/plain": [
       "  0%|          | 0/15000 [00:00<?, ?it/s]"
      ]
     },
     "metadata": {},
     "output_type": "display_data"
    },
    {
     "name": "stdout",
     "output_type": "stream",
     "text": [
      "[2,  1000] loss: 50.861\n",
      "[2,  2000] loss: 63.654\n",
      "[2,  3000] loss: 39.947\n",
      "[2,  4000] loss: 49.385\n",
      "[2,  5000] loss: 49.991\n",
      "[2,  6000] loss: 56.727\n",
      "[2,  7000] loss: 42.103\n",
      "[2,  8000] loss: 52.712\n",
      "[2,  9000] loss: 50.365\n",
      "[2, 10000] loss: 56.979\n",
      "[2, 11000] loss: 36.790\n",
      "[2, 12000] loss: 58.381\n",
      "[2, 13000] loss: 51.753\n",
      "[2, 14000] loss: 71.406\n",
      "[2, 15000] loss: 55.115\n",
      "Обучение закончено\n"
     ]
    }
   ],
   "source": [
    "fig = plt.figure(figsize=(10,7))\n",
    "ax = fig.add_subplot(1, 1, 1)\n",
    "torch.manual_seed(42)\n",
    "for epoch in tqdm_notebook(range(2)):\n",
    "    running_loss = 0.0\n",
    "    for i, batch in enumerate(tqdm_notebook(trainloader)):\n",
    "        X_batch, y_batch = batch\n",
    "        optimizer.zero_grad()\n",
    "        y_pred = net_4(X_batch.to(device))\n",
    "        loss = loss_fn(y_pred, y_batch.to(device))\n",
    "        loss.backward()\n",
    "        optimizer.step()\n",
    "\n",
    "        running_loss += loss.item()\n",
    "        if i % 1000 == 999:\n",
    "            print('[%d, %5d] loss: %.3f' %\n",
    "                  (epoch + 1, i + 1, running_loss))\n",
    "            losses.append(running_loss)\n",
    "            running_loss = 0.0\n",
    "\n",
    "    ax.clear()\n",
    "    ax.plot(np.arange(len(losses)), losses)\n",
    "    plt.show()\n",
    "\n",
    "print('Обучение закончено')"
   ]
  },
  {
   "cell_type": "code",
   "execution_count": 39,
   "id": "eb3ad435",
   "metadata": {},
   "outputs": [
    {
     "name": "stdout",
     "output_type": "stream",
     "text": [
      "Accuracy of  0 : 99.797400 %\n",
      "Accuracy of  1 : 99.302877 %\n",
      "Accuracy of  2 : 99.311850 %\n",
      "Accuracy of  3 : 99.233404 %\n",
      "Accuracy of  4 : 99.092776 %\n",
      "Accuracy of  5 : 99.040767 %\n",
      "Accuracy of  6 : 99.814126 %\n",
      "Accuracy of  7 : 98.643256 %\n",
      "Accuracy of  8 : 99.111263 %\n",
      "Accuracy of  9 : 99.260380 %\n",
      "Accuracy : 99.260000 %\n"
     ]
    }
   ],
   "source": [
    "class_correct = list(0. for i in range(10))\n",
    "class_total = list(0. for i in range(10))\n",
    "\n",
    "with torch.no_grad():\n",
    "    for data in trainloader:\n",
    "        images, labels = data\n",
    "        y_pred = net_4(images.to(device))\n",
    "        _, predicted = torch.max(y_pred, 1)\n",
    "        c = (predicted.cpu().detach() == labels)\n",
    "        for i in range(4):\n",
    "            label = labels[i]\n",
    "            class_correct[label] += c[i].item()\n",
    "            class_total[label] += 1\n",
    "class_correct_all = 0\n",
    "\n",
    "for i in range(10):\n",
    "    print('Accuracy of %2s : %2f %%' % (\n",
    "        classes[i], 100 * class_correct[i] / class_total[i]))\n",
    "    class_correct_all += class_correct[i]\n",
    "print('Accuracy : %2f %%' % (100 * class_correct_all/ 60000))"
   ]
  },
  {
   "cell_type": "code",
   "execution_count": 41,
   "id": "7acb3cda",
   "metadata": {},
   "outputs": [
    {
     "name": "stdout",
     "output_type": "stream",
     "text": [
      "Accuracy of  0 : 99.693878 %\n",
      "Accuracy of  1 : 98.678414 %\n",
      "Accuracy of  2 : 99.031008 %\n",
      "Accuracy of  3 : 99.009901 %\n",
      "Accuracy of  4 : 99.083503 %\n",
      "Accuracy of  5 : 98.654709 %\n",
      "Accuracy of  6 : 99.373695 %\n",
      "Accuracy of  7 : 98.832685 %\n",
      "Accuracy of  8 : 98.973306 %\n",
      "Accuracy of  9 : 98.612488 %\n",
      "Accuracy : 98.990000 %\n"
     ]
    }
   ],
   "source": [
    "class_correct = list(0. for i in range(10))\n",
    "class_total = list(0. for i in range(10))\n",
    "\n",
    "with torch.no_grad():\n",
    "    for data in testloader:\n",
    "        images, labels = data\n",
    "        y_pred = net_4(images.to(device))\n",
    "        _, predicted = torch.max(y_pred, 1)\n",
    "        c = (predicted.cpu().detach() == labels)\n",
    "        for i in range(4):\n",
    "            label = labels[i]\n",
    "            class_correct[label] += c[i].item()\n",
    "            class_total[label] += 1\n",
    "class_correct_all = 0\n",
    "\n",
    "for i in range(10):\n",
    "    print('Accuracy of %2s : %2f %%' % (\n",
    "        classes[i], 100 * class_correct[i] / class_total[i]))\n",
    "    class_correct_all += class_correct[i]\n",
    "print('Accuracy : %2f %%' % (100 * class_correct_all/ 10000))"
   ]
  },
  {
   "cell_type": "markdown",
   "id": "1f27bc57",
   "metadata": {},
   "source": [
    "Качество на тестовой выборке еще больше приблизилось к отметке 99%"
   ]
  },
  {
   "cell_type": "markdown",
   "id": "dec3a3c2",
   "metadata": {},
   "source": [
    "Попробуем улучшить качество модели добавлением сверток меньшего размера и нормализации"
   ]
  },
  {
   "cell_type": "code",
   "execution_count": 36,
   "id": "c3c7fb5d",
   "metadata": {},
   "outputs": [],
   "source": [
    "class MNIST_model_5(nn.Module):\n",
    "    def __init__(self):\n",
    "        super(MNIST_model_5, self).__init__()\n",
    "        self.conv1 = nn.Conv2d(in_channels=1, out_channels=64, kernel_size=5)\n",
    "        self.pool = nn.MaxPool2d(kernel_size=2, stride=2)\n",
    "        self.conv2 = nn.Conv2d(in_channels=64, out_channels=64, kernel_size=3)\n",
    "        self.conv3 = nn.Conv2d(in_channels=64, out_channels=64, kernel_size=2)\n",
    "        self.fc1 = nn.Linear(5 * 5 * 64, 150) \n",
    "        self.fc2 = nn.Linear(150, 10)\n",
    "        self.bn = nn.BatchNorm2d(64)\n",
    "\n",
    "    def forward(self, x):\n",
    "        \n",
    "        x = F.leaky_relu(self.conv1(x))\n",
    "        x = self.pool(F.leaky_relu(self.bn(self.conv2(x))))\n",
    "        x = self.pool(F.leaky_relu(self.bn(self.conv3(x))))\n",
    "        #print(x.shape)\n",
    "        x = x.view(-1, 5 * 5 * 64) \n",
    "        x = F.leaky_relu(self.fc1(x))\n",
    "        x = self.fc2(x)\n",
    "        return x"
   ]
  },
  {
   "cell_type": "code",
   "execution_count": 37,
   "id": "dd09feef",
   "metadata": {},
   "outputs": [
    {
     "name": "stdout",
     "output_type": "stream",
     "text": [
      "==========================================================================================\n",
      "Layer (type:depth-idx)                   Output Shape              Param #\n",
      "==========================================================================================\n",
      "├─Conv2d: 1-1                            [-1, 64, 24, 24]          1,664\n",
      "├─Conv2d: 1-2                            [-1, 64, 22, 22]          36,928\n",
      "├─BatchNorm2d: 1-3                       [-1, 64, 22, 22]          128\n",
      "├─MaxPool2d: 1-4                         [-1, 64, 11, 11]          --\n",
      "├─Conv2d: 1-5                            [-1, 64, 10, 10]          16,448\n",
      "├─BatchNorm2d: 1-6                       [-1, 64, 10, 10]          (recursive)\n",
      "├─MaxPool2d: 1-7                         [-1, 64, 5, 5]            --\n",
      "├─Linear: 1-8                            [-1, 150]                 240,150\n",
      "├─Linear: 1-9                            [-1, 10]                  1,510\n",
      "==========================================================================================\n",
      "Total params: 296,828\n",
      "Trainable params: 296,828\n",
      "Non-trainable params: 0\n",
      "Total mult-adds (M): 20.64\n",
      "==========================================================================================\n",
      "Input size (MB): 0.00\n",
      "Forward/backward pass size (MB): 0.80\n",
      "Params size (MB): 1.13\n",
      "Estimated Total Size (MB): 1.94\n",
      "==========================================================================================\n"
     ]
    },
    {
     "data": {
      "text/plain": [
       "==========================================================================================\n",
       "Layer (type:depth-idx)                   Output Shape              Param #\n",
       "==========================================================================================\n",
       "├─Conv2d: 1-1                            [-1, 64, 24, 24]          1,664\n",
       "├─Conv2d: 1-2                            [-1, 64, 22, 22]          36,928\n",
       "├─BatchNorm2d: 1-3                       [-1, 64, 22, 22]          128\n",
       "├─MaxPool2d: 1-4                         [-1, 64, 11, 11]          --\n",
       "├─Conv2d: 1-5                            [-1, 64, 10, 10]          16,448\n",
       "├─BatchNorm2d: 1-6                       [-1, 64, 10, 10]          (recursive)\n",
       "├─MaxPool2d: 1-7                         [-1, 64, 5, 5]            --\n",
       "├─Linear: 1-8                            [-1, 150]                 240,150\n",
       "├─Linear: 1-9                            [-1, 10]                  1,510\n",
       "==========================================================================================\n",
       "Total params: 296,828\n",
       "Trainable params: 296,828\n",
       "Non-trainable params: 0\n",
       "Total mult-adds (M): 20.64\n",
       "==========================================================================================\n",
       "Input size (MB): 0.00\n",
       "Forward/backward pass size (MB): 0.80\n",
       "Params size (MB): 1.13\n",
       "Estimated Total Size (MB): 1.94\n",
       "=========================================================================================="
      ]
     },
     "execution_count": 37,
     "metadata": {},
     "output_type": "execute_result"
    }
   ],
   "source": [
    "net_5 = MNIST_model_5()\n",
    "\n",
    "summary(net_5, (1,28, 28))"
   ]
  },
  {
   "cell_type": "code",
   "execution_count": 38,
   "id": "b8b78481",
   "metadata": {},
   "outputs": [],
   "source": [
    "from tqdm import tqdm_notebook\n",
    "net_5 = MNIST_model_5().to(device)\n",
    "loss_fn = torch.nn.CrossEntropyLoss()\n",
    "learning_rate = 1e-3\n",
    "optimizer = torch.optim.Adam(net_5.parameters(), lr=learning_rate)\n",
    "losses = []"
   ]
  },
  {
   "cell_type": "code",
   "execution_count": 39,
   "id": "00275a3b",
   "metadata": {},
   "outputs": [
    {
     "data": {
      "application/vnd.jupyter.widget-view+json": {
       "model_id": "f4b71c31d8b347e1bad3006647c94065",
       "version_major": 2,
       "version_minor": 0
      },
      "text/plain": [
       "  0%|          | 0/3 [00:00<?, ?it/s]"
      ]
     },
     "metadata": {},
     "output_type": "display_data"
    },
    {
     "data": {
      "application/vnd.jupyter.widget-view+json": {
       "model_id": "6f36f3ae7a9143dcb8860aee3324b624",
       "version_major": 2,
       "version_minor": 0
      },
      "text/plain": [
       "  0%|          | 0/15000 [00:00<?, ?it/s]"
      ]
     },
     "metadata": {},
     "output_type": "display_data"
    },
    {
     "name": "stdout",
     "output_type": "stream",
     "text": [
      "[1,  1000] loss: 340.313\n",
      "[1,  2000] loss: 158.956\n",
      "[1,  3000] loss: 142.486\n",
      "[1,  4000] loss: 110.329\n",
      "[1,  5000] loss: 94.554\n",
      "[1,  6000] loss: 91.073\n",
      "[1,  7000] loss: 98.959\n",
      "[1,  8000] loss: 80.668\n",
      "[1,  9000] loss: 80.630\n",
      "[1, 10000] loss: 68.776\n",
      "[1, 11000] loss: 74.708\n",
      "[1, 12000] loss: 62.697\n",
      "[1, 13000] loss: 50.835\n",
      "[1, 14000] loss: 55.463\n",
      "[1, 15000] loss: 82.387\n"
     ]
    },
    {
     "data": {
      "image/png": "[encoded data removed]",
      "text/plain": [
       "<Figure size 720x504 with 1 Axes>"
      ]
     },
     "metadata": {
      "needs_background": "light"
     },
     "output_type": "display_data"
    },
    {
     "data": {
      "application/vnd.jupyter.widget-view+json": {
       "model_id": "60af06b92b1e47d7812a6cbbd75fbfd1",
       "version_major": 2,
       "version_minor": 0
      },
      "text/plain": [
       "  0%|          | 0/15000 [00:00<?, ?it/s]"
      ]
     },
     "metadata": {},
     "output_type": "display_data"
    },
    {
     "name": "stdout",
     "output_type": "stream",
     "text": [
      "[2,  1000] loss: 39.253\n",
      "[2,  2000] loss: 59.666\n",
      "[2,  3000] loss: 41.604\n",
      "[2,  4000] loss: 53.750\n",
      "[2,  5000] loss: 49.908\n",
      "[2,  6000] loss: 43.635\n",
      "[2,  7000] loss: 23.141\n",
      "[2,  8000] loss: 45.984\n",
      "[2,  9000] loss: 49.638\n",
      "[2, 10000] loss: 54.140\n",
      "[2, 11000] loss: 35.708\n",
      "[2, 12000] loss: 51.990\n",
      "[2, 13000] loss: 47.814\n",
      "[2, 14000] loss: 43.217\n",
      "[2, 15000] loss: 48.321\n"
     ]
    },
    {
     "data": {
      "application/vnd.jupyter.widget-view+json": {
       "model_id": "a2c2c76b724843daaf857b568abc92ac",
       "version_major": 2,
       "version_minor": 0
      },
      "text/plain": [
       "  0%|          | 0/15000 [00:00<?, ?it/s]"
      ]
     },
     "metadata": {},
     "output_type": "display_data"
    },
    {
     "name": "stdout",
     "output_type": "stream",
     "text": [
      "[3,  1000] loss: 23.899\n",
      "[3,  2000] loss: 41.098\n",
      "[3,  3000] loss: 44.051\n",
      "[3,  4000] loss: 29.275\n",
      "[3,  5000] loss: 30.345\n",
      "[3,  6000] loss: 36.637\n",
      "[3,  7000] loss: 38.098\n",
      "[3,  8000] loss: 34.457\n",
      "[3,  9000] loss: 35.912\n",
      "[3, 10000] loss: 34.930\n",
      "[3, 11000] loss: 34.132\n",
      "[3, 12000] loss: 28.991\n",
      "[3, 13000] loss: 41.457\n",
      "[3, 14000] loss: 27.297\n",
      "[3, 15000] loss: 36.765\n",
      "Обучение закончено\n"
     ]
    }
   ],
   "source": [
    "fig = plt.figure(figsize=(10,7))\n",
    "ax = fig.add_subplot(1, 1, 1)\n",
    "torch.manual_seed(42)\n",
    "for epoch in tqdm_notebook(range(3)):\n",
    "    running_loss = 0.0\n",
    "    for i, batch in enumerate(tqdm_notebook(trainloader)):\n",
    "        X_batch, y_batch = batch\n",
    "        optimizer.zero_grad()\n",
    "        y_pred = net_5(X_batch.to(device))\n",
    "        loss = loss_fn(y_pred, y_batch.to(device))\n",
    "        loss.backward()\n",
    "        optimizer.step()\n",
    "\n",
    "        running_loss += loss.item()\n",
    "        if i % 1000 == 999:\n",
    "            print('[%d, %5d] loss: %.3f' %\n",
    "                  (epoch + 1, i + 1, running_loss))\n",
    "            losses.append(running_loss)\n",
    "            running_loss = 0.0\n",
    "\n",
    "    ax.clear()\n",
    "    ax.plot(np.arange(len(losses)), losses)\n",
    "    plt.show()\n",
    "\n",
    "print('Обучение закончено')"
   ]
  },
  {
   "cell_type": "code",
   "execution_count": 40,
   "id": "7672e9db",
   "metadata": {},
   "outputs": [
    {
     "name": "stdout",
     "output_type": "stream",
     "text": [
      "Accuracy of  0 : 99.848050 %\n",
      "Accuracy of  1 : 99.599525 %\n",
      "Accuracy of  2 : 99.563612 %\n",
      "Accuracy of  3 : 99.233404 %\n",
      "Accuracy of  4 : 99.486477 %\n",
      "Accuracy of  5 : 99.391256 %\n",
      "Accuracy of  6 : 99.526867 %\n",
      "Accuracy of  7 : 99.584996 %\n",
      "Accuracy of  8 : 99.538540 %\n",
      "Accuracy of  9 : 99.176332 %\n",
      "Accuracy : 99.496667 %\n"
     ]
    }
   ],
   "source": [
    "class_correct = list(0. for i in range(10))\n",
    "class_total = list(0. for i in range(10))\n",
    "\n",
    "with torch.no_grad():\n",
    "    for data in trainloader:\n",
    "        images, labels = data\n",
    "        y_pred = net_5(images.to(device))\n",
    "        _, predicted = torch.max(y_pred, 1)\n",
    "        c = (predicted.cpu().detach() == labels)\n",
    "        for i in range(4):\n",
    "            label = labels[i]\n",
    "            class_correct[label] += c[i].item()\n",
    "            class_total[label] += 1\n",
    "class_correct_all = 0\n",
    "\n",
    "for i in range(10):\n",
    "    print('Accuracy of %2s : %2f %%' % (\n",
    "        classes[i], 100 * class_correct[i] / class_total[i]))\n",
    "    class_correct_all += class_correct[i]\n",
    "print('Accuracy : %2f %%' % (100 * class_correct_all/ 60000))"
   ]
  },
  {
   "cell_type": "code",
   "execution_count": 41,
   "id": "911b1df4",
   "metadata": {},
   "outputs": [
    {
     "name": "stdout",
     "output_type": "stream",
     "text": [
      "Accuracy of  0 : 99.795918 %\n",
      "Accuracy of  1 : 99.735683 %\n",
      "Accuracy of  2 : 99.806202 %\n",
      "Accuracy of  3 : 99.306931 %\n",
      "Accuracy of  4 : 99.389002 %\n",
      "Accuracy of  5 : 98.991031 %\n",
      "Accuracy of  6 : 98.538622 %\n",
      "Accuracy of  7 : 99.124514 %\n",
      "Accuracy of  8 : 99.486653 %\n",
      "Accuracy of  9 : 98.909812 %\n",
      "Accuracy : 99.320000 %\n"
     ]
    }
   ],
   "source": [
    "class_correct = list(0. for i in range(10))\n",
    "class_total = list(0. for i in range(10))\n",
    "\n",
    "with torch.no_grad():\n",
    "    for data in testloader:\n",
    "        images, labels = data\n",
    "        y_pred = net_5(images.to(device))\n",
    "        _, predicted = torch.max(y_pred, 1)\n",
    "        c = (predicted.cpu().detach() == labels)\n",
    "        for i in range(4):\n",
    "            label = labels[i]\n",
    "            class_correct[label] += c[i].item()\n",
    "            class_total[label] += 1\n",
    "class_correct_all = 0\n",
    "\n",
    "for i in range(10):\n",
    "    print('Accuracy of %2s : %2f %%' % (\n",
    "        classes[i], 100 * class_correct[i] / class_total[i]))\n",
    "    class_correct_all += class_correct[i]\n",
    "print('Accuracy : %2f %%' % (100 * class_correct_all/ 10000))"
   ]
  },
  {
   "cell_type": "markdown",
   "id": "b26884dd",
   "metadata": {},
   "source": [
    "Качество на тестовой выборке повысилось до 99.32%"
   ]
  },
  {
   "cell_type": "markdown",
   "id": "7a208e17",
   "metadata": {},
   "source": [
    " Альтернативное решение, дающее качество на тестовой выборке ~99%, однако число параметров меньше в 3 раза, что алгоритмически более привлекательно, по сравнению, например, с моделью №4 (используется свертка 1*1)"
   ]
  },
  {
   "cell_type": "code",
   "execution_count": 53,
   "id": "3ece57db",
   "metadata": {},
   "outputs": [],
   "source": [
    "class MNIST_model_6(nn.Module):\n",
    "    def __init__(self):\n",
    "        super(MNIST_model_6, self).__init__()\n",
    "        self.conv1 = nn.Conv2d(in_channels=1, out_channels=16, kernel_size=5)\n",
    "        self.pool = nn.MaxPool2d(kernel_size=2, stride=2)\n",
    "        self.conv2 = nn.Conv2d(in_channels=16, out_channels=32, kernel_size=3)\n",
    "        self.conv3 = nn.Conv2d(in_channels=32, out_channels=16, kernel_size=1)\n",
    "        self.fc1 = nn.Linear(5 * 5 * 16, 150) \n",
    "        self.fc2 = nn.Linear(150, 10)\n",
    "        self.bn_1 = nn.BatchNorm2d(16)\n",
    "        self.bn_2 = nn.BatchNorm2d(32)\n",
    "\n",
    "    def forward(self, x):\n",
    "        \n",
    "        x = self.pool(F.leaky_relu(self.bn_1(self.conv1(x))))\n",
    "        x = self.pool(F.leaky_relu(self.bn_2(self.conv2(x))))\n",
    "        x = F.leaky_relu(self.conv3(x))\n",
    "        #print(x.shape)\n",
    "        x = x.view(-1, 5 * 5 * 16) \n",
    "        x = F.leaky_relu(self.fc1(x))\n",
    "        x = self.fc2(x)\n",
    "        return x"
   ]
  },
  {
   "cell_type": "code",
   "execution_count": 54,
   "id": "9dc6f487",
   "metadata": {},
   "outputs": [
    {
     "name": "stdout",
     "output_type": "stream",
     "text": [
      "==========================================================================================\n",
      "Layer (type:depth-idx)                   Output Shape              Param #\n",
      "==========================================================================================\n",
      "├─Conv2d: 1-1                            [-1, 16, 24, 24]          416\n",
      "├─BatchNorm2d: 1-2                       [-1, 16, 24, 24]          32\n",
      "├─MaxPool2d: 1-3                         [-1, 16, 12, 12]          --\n",
      "├─Conv2d: 1-4                            [-1, 32, 10, 10]          4,640\n",
      "├─BatchNorm2d: 1-5                       [-1, 32, 10, 10]          64\n",
      "├─MaxPool2d: 1-6                         [-1, 32, 5, 5]            --\n",
      "├─Conv2d: 1-7                            [-1, 16, 5, 5]            528\n",
      "├─Linear: 1-8                            [-1, 150]                 60,150\n",
      "├─Linear: 1-9                            [-1, 10]                  1,510\n",
      "==========================================================================================\n",
      "Total params: 67,340\n",
      "Trainable params: 67,340\n",
      "Non-trainable params: 0\n",
      "Total mult-adds (M): 0.77\n",
      "==========================================================================================\n",
      "Input size (MB): 0.00\n",
      "Forward/backward pass size (MB): 0.19\n",
      "Params size (MB): 0.26\n",
      "Estimated Total Size (MB): 0.45\n",
      "==========================================================================================\n"
     ]
    },
    {
     "data": {
      "text/plain": [
       "==========================================================================================\n",
       "Layer (type:depth-idx)                   Output Shape              Param #\n",
       "==========================================================================================\n",
       "├─Conv2d: 1-1                            [-1, 16, 24, 24]          416\n",
       "├─BatchNorm2d: 1-2                       [-1, 16, 24, 24]          32\n",
       "├─MaxPool2d: 1-3                         [-1, 16, 12, 12]          --\n",
       "├─Conv2d: 1-4                            [-1, 32, 10, 10]          4,640\n",
       "├─BatchNorm2d: 1-5                       [-1, 32, 10, 10]          64\n",
       "├─MaxPool2d: 1-6                         [-1, 32, 5, 5]            --\n",
       "├─Conv2d: 1-7                            [-1, 16, 5, 5]            528\n",
       "├─Linear: 1-8                            [-1, 150]                 60,150\n",
       "├─Linear: 1-9                            [-1, 10]                  1,510\n",
       "==========================================================================================\n",
       "Total params: 67,340\n",
       "Trainable params: 67,340\n",
       "Non-trainable params: 0\n",
       "Total mult-adds (M): 0.77\n",
       "==========================================================================================\n",
       "Input size (MB): 0.00\n",
       "Forward/backward pass size (MB): 0.19\n",
       "Params size (MB): 0.26\n",
       "Estimated Total Size (MB): 0.45\n",
       "=========================================================================================="
      ]
     },
     "execution_count": 54,
     "metadata": {},
     "output_type": "execute_result"
    }
   ],
   "source": [
    "net_6 = MNIST_model_6()\n",
    "\n",
    "summary(net_6, (1,28, 28))"
   ]
  },
  {
   "cell_type": "code",
   "execution_count": 55,
   "id": "7859ed2e",
   "metadata": {},
   "outputs": [],
   "source": [
    "from tqdm import tqdm_notebook\n",
    "net_6 = MNIST_model_6().to(device)\n",
    "loss_fn = torch.nn.CrossEntropyLoss()\n",
    "learning_rate = 1e-3\n",
    "optimizer = torch.optim.Adam(net_6.parameters(), lr=learning_rate)\n",
    "losses = []"
   ]
  },
  {
   "cell_type": "code",
   "execution_count": 56,
   "id": "f88df017",
   "metadata": {},
   "outputs": [
    {
     "data": {
      "application/vnd.jupyter.widget-view+json": {
       "model_id": "13838f12fcf8421b8a8656e989b2d265",
       "version_major": 2,
       "version_minor": 0
      },
      "text/plain": [
       "  0%|          | 0/3 [00:00<?, ?it/s]"
      ]
     },
     "metadata": {},
     "output_type": "display_data"
    },
    {
     "data": {
      "application/vnd.jupyter.widget-view+json": {
       "model_id": "cd758c47bb2d4974824ee1647eb9b80a",
       "version_major": 2,
       "version_minor": 0
      },
      "text/plain": [
       "  0%|          | 0/15000 [00:00<?, ?it/s]"
      ]
     },
     "metadata": {},
     "output_type": "display_data"
    },
    {
     "name": "stdout",
     "output_type": "stream",
     "text": [
      "[1,  1000] loss: 375.987\n",
      "[1,  2000] loss: 152.567\n",
      "[1,  3000] loss: 133.787\n",
      "[1,  4000] loss: 101.846\n",
      "[1,  5000] loss: 91.182\n",
      "[1,  6000] loss: 86.667\n",
      "[1,  7000] loss: 94.268\n",
      "[1,  8000] loss: 78.212\n",
      "[1,  9000] loss: 84.686\n",
      "[1, 10000] loss: 75.065\n",
      "[1, 11000] loss: 76.241\n",
      "[1, 12000] loss: 70.297\n",
      "[1, 13000] loss: 66.970\n",
      "[1, 14000] loss: 52.887\n",
      "[1, 15000] loss: 90.953\n"
     ]
    },
    {
     "data": {
      "image/png": "[encoded data removed]",
      "text/plain": [
       "<Figure size 720x504 with 1 Axes>"
      ]
     },
     "metadata": {
      "needs_background": "light"
     },
     "output_type": "display_data"
    },
    {
     "data": {
      "application/vnd.jupyter.widget-view+json": {
       "model_id": "76b37e1de8ad4bebadacd2f7195ff0cc",
       "version_major": 2,
       "version_minor": 0
      },
      "text/plain": [
       "  0%|          | 0/15000 [00:00<?, ?it/s]"
      ]
     },
     "metadata": {},
     "output_type": "display_data"
    },
    {
     "name": "stdout",
     "output_type": "stream",
     "text": [
      "[2,  1000] loss: 47.286\n",
      "[2,  2000] loss: 60.764\n",
      "[2,  3000] loss: 52.510\n",
      "[2,  4000] loss: 57.747\n",
      "[2,  5000] loss: 59.675\n",
      "[2,  6000] loss: 50.773\n",
      "[2,  7000] loss: 31.712\n",
      "[2,  8000] loss: 42.070\n",
      "[2,  9000] loss: 57.783\n",
      "[2, 10000] loss: 61.239\n",
      "[2, 11000] loss: 43.637\n",
      "[2, 12000] loss: 59.801\n",
      "[2, 13000] loss: 57.700\n",
      "[2, 14000] loss: 56.764\n",
      "[2, 15000] loss: 54.141\n"
     ]
    },
    {
     "data": {
      "application/vnd.jupyter.widget-view+json": {
       "model_id": "9be0f3a54c0148028d998352c090eb2a",
       "version_major": 2,
       "version_minor": 0
      },
      "text/plain": [
       "  0%|          | 0/15000 [00:00<?, ?it/s]"
      ]
     },
     "metadata": {},
     "output_type": "display_data"
    },
    {
     "name": "stdout",
     "output_type": "stream",
     "text": [
      "[3,  1000] loss: 29.146\n",
      "[3,  2000] loss: 48.939\n",
      "[3,  3000] loss: 43.934\n",
      "[3,  4000] loss: 32.056\n",
      "[3,  5000] loss: 42.714\n",
      "[3,  6000] loss: 48.184\n",
      "[3,  7000] loss: 38.371\n",
      "[3,  8000] loss: 43.507\n",
      "[3,  9000] loss: 41.429\n",
      "[3, 10000] loss: 40.229\n",
      "[3, 11000] loss: 41.734\n",
      "[3, 12000] loss: 37.078\n",
      "[3, 13000] loss: 33.661\n",
      "[3, 14000] loss: 26.858\n",
      "[3, 15000] loss: 44.420\n",
      "Обучение закончено\n"
     ]
    }
   ],
   "source": [
    "fig = plt.figure(figsize=(10,7))\n",
    "ax = fig.add_subplot(1, 1, 1)\n",
    "torch.manual_seed(42)\n",
    "for epoch in tqdm_notebook(range(3)):\n",
    "    running_loss = 0.0\n",
    "    for i, batch in enumerate(tqdm_notebook(trainloader)):\n",
    "        X_batch, y_batch = batch\n",
    "        optimizer.zero_grad()\n",
    "        y_pred = net_6(X_batch.to(device))\n",
    "        loss = loss_fn(y_pred, y_batch.to(device))\n",
    "        loss.backward()\n",
    "        optimizer.step()\n",
    "\n",
    "        running_loss += loss.item()\n",
    "        if i % 1000 == 999:\n",
    "            print('[%d, %5d] loss: %.3f' %\n",
    "                  (epoch + 1, i + 1, running_loss))\n",
    "            losses.append(running_loss)\n",
    "            running_loss = 0.0\n",
    "\n",
    "    ax.clear()\n",
    "    ax.plot(np.arange(len(losses)), losses)\n",
    "    plt.show()\n",
    "\n",
    "print('Обучение закончено')"
   ]
  },
  {
   "cell_type": "code",
   "execution_count": 57,
   "id": "cec1b147",
   "metadata": {},
   "outputs": [
    {
     "name": "stdout",
     "output_type": "stream",
     "text": [
      "Accuracy of  0 : 99.611683 %\n",
      "Accuracy of  1 : 99.288045 %\n",
      "Accuracy of  2 : 99.630749 %\n",
      "Accuracy of  3 : 99.314957 %\n",
      "Accuracy of  4 : 99.212598 %\n",
      "Accuracy of  5 : 99.169895 %\n",
      "Accuracy of  6 : 99.628253 %\n",
      "Accuracy of  7 : 99.010375 %\n",
      "Accuracy of  8 : 99.094172 %\n",
      "Accuracy of  9 : 98.907379 %\n",
      "Accuracy : 99.286667 %\n"
     ]
    }
   ],
   "source": [
    "class_correct = list(0. for i in range(10))\n",
    "class_total = list(0. for i in range(10))\n",
    "\n",
    "with torch.no_grad():\n",
    "    for data in trainloader:\n",
    "        images, labels = data\n",
    "        y_pred = net_6(images.to(device))\n",
    "        _, predicted = torch.max(y_pred, 1)\n",
    "        c = (predicted.cpu().detach() == labels)\n",
    "        for i in range(4):\n",
    "            label = labels[i]\n",
    "            class_correct[label] += c[i].item()\n",
    "            class_total[label] += 1\n",
    "class_correct_all = 0\n",
    "\n",
    "for i in range(10):\n",
    "    print('Accuracy of %2s : %2f %%' % (\n",
    "        classes[i], 100 * class_correct[i] / class_total[i]))\n",
    "    class_correct_all += class_correct[i]\n",
    "print('Accuracy : %2f %%' % (100 * class_correct_all/ 60000))"
   ]
  },
  {
   "cell_type": "code",
   "execution_count": 58,
   "id": "fb7aed1f",
   "metadata": {},
   "outputs": [
    {
     "name": "stdout",
     "output_type": "stream",
     "text": [
      "Accuracy of  0 : 99.795918 %\n",
      "Accuracy of  1 : 99.559471 %\n",
      "Accuracy of  2 : 99.515504 %\n",
      "Accuracy of  3 : 98.811881 %\n",
      "Accuracy of  4 : 99.185336 %\n",
      "Accuracy of  5 : 98.766816 %\n",
      "Accuracy of  6 : 98.538622 %\n",
      "Accuracy of  7 : 98.346304 %\n",
      "Accuracy of  8 : 98.973306 %\n",
      "Accuracy of  9 : 98.216056 %\n",
      "Accuracy : 98.980000 %\n"
     ]
    }
   ],
   "source": [
    "class_correct = list(0. for i in range(10))\n",
    "class_total = list(0. for i in range(10))\n",
    "\n",
    "with torch.no_grad():\n",
    "    for data in testloader:\n",
    "        images, labels = data\n",
    "        y_pred = net_6(images.to(device))\n",
    "        _, predicted = torch.max(y_pred, 1)\n",
    "        c = (predicted.cpu().detach() == labels)\n",
    "        for i in range(4):\n",
    "            label = labels[i]\n",
    "            class_correct[label] += c[i].item()\n",
    "            class_total[label] += 1\n",
    "class_correct_all = 0\n",
    "\n",
    "for i in range(10):\n",
    "    print('Accuracy of %2s : %2f %%' % (\n",
    "        classes[i], 100 * class_correct[i] / class_total[i]))\n",
    "    class_correct_all += class_correct[i]\n",
    "print('Accuracy : %2f %%' % (100 * class_correct_all/ 10000))"
   ]
  },
  {
   "cell_type": "code",
   "execution_count": null,
   "id": "64fd47b0",
   "metadata": {},
   "outputs": [],
   "source": []
  }
 ],
 "metadata": {
  "kernelspec": {
   "display_name": "Python 3",
   "language": "python",
   "name": "python3"
  },
  "language_info": {
   "codemirror_mode": {
    "name": "ipython",
    "version": 3
   },
   "file_extension": ".py",
   "mimetype": "text/x-python",
   "name": "python",
   "nbconvert_exporter": "python",
   "pygments_lexer": "ipython3",
   "version": "3.8.8"
  }
 },
 "nbformat": 4,
 "nbformat_minor": 5
}
